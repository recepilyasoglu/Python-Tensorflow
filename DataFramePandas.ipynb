{
 "cells": [
  {
   "cell_type": "code",
   "execution_count": 61,
   "id": "cfa13cdf",
   "metadata": {},
   "outputs": [],
   "source": [
    "import pandas as pd\n",
    "import numpy as np"
   ]
  },
  {
   "cell_type": "code",
   "execution_count": 62,
   "id": "45182a02",
   "metadata": {},
   "outputs": [],
   "source": [
    "# normal dağılımdan rastgele sayı matrix'i verir\n",
    "data = np.random.randn(4,3)"
   ]
  },
  {
   "cell_type": "code",
   "execution_count": 63,
   "id": "e6ece8bf",
   "metadata": {},
   "outputs": [
    {
     "data": {
      "text/plain": [
       "array([[ 0.60163865,  1.10344061,  1.48693318],\n",
       "       [ 0.44852327,  0.14258283,  1.35401108],\n",
       "       [-1.14465043, -0.20026335,  0.94152896],\n",
       "       [-0.42879879,  0.89891687,  0.57214577]])"
      ]
     },
     "execution_count": 63,
     "metadata": {},
     "output_type": "execute_result"
    }
   ],
   "source": [
    "data "
   ]
  },
  {
   "cell_type": "code",
   "execution_count": 64,
   "id": "e940350d",
   "metadata": {},
   "outputs": [],
   "source": [
    "dataFrame = pd.DataFrame(data)"
   ]
  },
  {
   "cell_type": "code",
   "execution_count": 65,
   "id": "3f3324af",
   "metadata": {},
   "outputs": [
    {
     "data": {
      "text/plain": [
       "0    0.601639\n",
       "1    0.448523\n",
       "2   -1.144650\n",
       "3   -0.428799\n",
       "Name: 0, dtype: float64"
      ]
     },
     "execution_count": 65,
     "metadata": {},
     "output_type": "execute_result"
    }
   ],
   "source": [
    "dataFrame[0]"
   ]
  },
  {
   "cell_type": "code",
   "execution_count": 66,
   "id": "7a7c8ba0",
   "metadata": {},
   "outputs": [
    {
     "data": {
      "text/html": [
       "<div>\n",
       "<style scoped>\n",
       "    .dataframe tbody tr th:only-of-type {\n",
       "        vertical-align: middle;\n",
       "    }\n",
       "\n",
       "    .dataframe tbody tr th {\n",
       "        vertical-align: top;\n",
       "    }\n",
       "\n",
       "    .dataframe thead th {\n",
       "        text-align: right;\n",
       "    }\n",
       "</style>\n",
       "<table border=\"1\" class=\"dataframe\">\n",
       "  <thead>\n",
       "    <tr style=\"text-align: right;\">\n",
       "      <th></th>\n",
       "      <th>0</th>\n",
       "      <th>1</th>\n",
       "      <th>2</th>\n",
       "    </tr>\n",
       "  </thead>\n",
       "  <tbody>\n",
       "    <tr>\n",
       "      <th>0</th>\n",
       "      <td>0.601639</td>\n",
       "      <td>1.103441</td>\n",
       "      <td>1.486933</td>\n",
       "    </tr>\n",
       "    <tr>\n",
       "      <th>1</th>\n",
       "      <td>0.448523</td>\n",
       "      <td>0.142583</td>\n",
       "      <td>1.354011</td>\n",
       "    </tr>\n",
       "    <tr>\n",
       "      <th>2</th>\n",
       "      <td>-1.144650</td>\n",
       "      <td>-0.200263</td>\n",
       "      <td>0.941529</td>\n",
       "    </tr>\n",
       "    <tr>\n",
       "      <th>3</th>\n",
       "      <td>-0.428799</td>\n",
       "      <td>0.898917</td>\n",
       "      <td>0.572146</td>\n",
       "    </tr>\n",
       "  </tbody>\n",
       "</table>\n",
       "</div>"
      ],
      "text/plain": [
       "          0         1         2\n",
       "0  0.601639  1.103441  1.486933\n",
       "1  0.448523  0.142583  1.354011\n",
       "2 -1.144650 -0.200263  0.941529\n",
       "3 -0.428799  0.898917  0.572146"
      ]
     },
     "execution_count": 66,
     "metadata": {},
     "output_type": "execute_result"
    }
   ],
   "source": [
    "dataFrame"
   ]
  },
  {
   "cell_type": "code",
   "execution_count": 67,
   "id": "a9e3fef3",
   "metadata": {},
   "outputs": [],
   "source": [
    "yeniDataFrame = pd.DataFrame(data,index=[\"Recep\",\"Zeynep\",\"Atlas\",\"Mehmet\"],columns=[\"Maas\",\"Yas\",\"CalismaSaati\"])"
   ]
  },
  {
   "cell_type": "code",
   "execution_count": 68,
   "id": "285d62d7",
   "metadata": {},
   "outputs": [
    {
     "data": {
      "text/html": [
       "<div>\n",
       "<style scoped>\n",
       "    .dataframe tbody tr th:only-of-type {\n",
       "        vertical-align: middle;\n",
       "    }\n",
       "\n",
       "    .dataframe tbody tr th {\n",
       "        vertical-align: top;\n",
       "    }\n",
       "\n",
       "    .dataframe thead th {\n",
       "        text-align: right;\n",
       "    }\n",
       "</style>\n",
       "<table border=\"1\" class=\"dataframe\">\n",
       "  <thead>\n",
       "    <tr style=\"text-align: right;\">\n",
       "      <th></th>\n",
       "      <th>Maas</th>\n",
       "      <th>Yas</th>\n",
       "      <th>CalismaSaati</th>\n",
       "    </tr>\n",
       "  </thead>\n",
       "  <tbody>\n",
       "    <tr>\n",
       "      <th>Recep</th>\n",
       "      <td>0.601639</td>\n",
       "      <td>1.103441</td>\n",
       "      <td>1.486933</td>\n",
       "    </tr>\n",
       "    <tr>\n",
       "      <th>Zeynep</th>\n",
       "      <td>0.448523</td>\n",
       "      <td>0.142583</td>\n",
       "      <td>1.354011</td>\n",
       "    </tr>\n",
       "    <tr>\n",
       "      <th>Atlas</th>\n",
       "      <td>-1.144650</td>\n",
       "      <td>-0.200263</td>\n",
       "      <td>0.941529</td>\n",
       "    </tr>\n",
       "    <tr>\n",
       "      <th>Mehmet</th>\n",
       "      <td>-0.428799</td>\n",
       "      <td>0.898917</td>\n",
       "      <td>0.572146</td>\n",
       "    </tr>\n",
       "  </tbody>\n",
       "</table>\n",
       "</div>"
      ],
      "text/plain": [
       "            Maas       Yas  CalismaSaati\n",
       "Recep   0.601639  1.103441      1.486933\n",
       "Zeynep  0.448523  0.142583      1.354011\n",
       "Atlas  -1.144650 -0.200263      0.941529\n",
       "Mehmet -0.428799  0.898917      0.572146"
      ]
     },
     "execution_count": 68,
     "metadata": {},
     "output_type": "execute_result"
    }
   ],
   "source": [
    "yeniDataFrame"
   ]
  },
  {
   "cell_type": "code",
   "execution_count": 69,
   "id": "951da087",
   "metadata": {},
   "outputs": [
    {
     "data": {
      "text/plain": [
       "Recep     1.103441\n",
       "Zeynep    0.142583\n",
       "Atlas    -0.200263\n",
       "Mehmet    0.898917\n",
       "Name: Yas, dtype: float64"
      ]
     },
     "execution_count": 69,
     "metadata": {},
     "output_type": "execute_result"
    }
   ],
   "source": [
    "yeniDataFrame[\"Yas\"]"
   ]
  },
  {
   "cell_type": "code",
   "execution_count": 70,
   "id": "702c02c3",
   "metadata": {},
   "outputs": [
    {
     "data": {
      "text/plain": [
       "Recep     1.486933\n",
       "Zeynep    1.354011\n",
       "Atlas     0.941529\n",
       "Mehmet    0.572146\n",
       "Name: CalismaSaati, dtype: float64"
      ]
     },
     "execution_count": 70,
     "metadata": {},
     "output_type": "execute_result"
    }
   ],
   "source": [
    "yeniDataFrame[\"CalismaSaati\"]"
   ]
  },
  {
   "cell_type": "code",
   "execution_count": 71,
   "id": "153e1e56",
   "metadata": {},
   "outputs": [
    {
     "data": {
      "text/html": [
       "<div>\n",
       "<style scoped>\n",
       "    .dataframe tbody tr th:only-of-type {\n",
       "        vertical-align: middle;\n",
       "    }\n",
       "\n",
       "    .dataframe tbody tr th {\n",
       "        vertical-align: top;\n",
       "    }\n",
       "\n",
       "    .dataframe thead th {\n",
       "        text-align: right;\n",
       "    }\n",
       "</style>\n",
       "<table border=\"1\" class=\"dataframe\">\n",
       "  <thead>\n",
       "    <tr style=\"text-align: right;\">\n",
       "      <th></th>\n",
       "      <th>Maas</th>\n",
       "      <th>Yas</th>\n",
       "    </tr>\n",
       "  </thead>\n",
       "  <tbody>\n",
       "    <tr>\n",
       "      <th>Recep</th>\n",
       "      <td>0.601639</td>\n",
       "      <td>1.103441</td>\n",
       "    </tr>\n",
       "    <tr>\n",
       "      <th>Zeynep</th>\n",
       "      <td>0.448523</td>\n",
       "      <td>0.142583</td>\n",
       "    </tr>\n",
       "    <tr>\n",
       "      <th>Atlas</th>\n",
       "      <td>-1.144650</td>\n",
       "      <td>-0.200263</td>\n",
       "    </tr>\n",
       "    <tr>\n",
       "      <th>Mehmet</th>\n",
       "      <td>-0.428799</td>\n",
       "      <td>0.898917</td>\n",
       "    </tr>\n",
       "  </tbody>\n",
       "</table>\n",
       "</div>"
      ],
      "text/plain": [
       "            Maas       Yas\n",
       "Recep   0.601639  1.103441\n",
       "Zeynep  0.448523  0.142583\n",
       "Atlas  -1.144650 -0.200263\n",
       "Mehmet -0.428799  0.898917"
      ]
     },
     "execution_count": 71,
     "metadata": {},
     "output_type": "execute_result"
    }
   ],
   "source": [
    "yeniDataFrame[[\"Maas\",\"Yas\"]]"
   ]
  },
  {
   "cell_type": "code",
   "execution_count": 72,
   "id": "49450726",
   "metadata": {},
   "outputs": [
    {
     "data": {
      "text/html": [
       "<div>\n",
       "<style scoped>\n",
       "    .dataframe tbody tr th:only-of-type {\n",
       "        vertical-align: middle;\n",
       "    }\n",
       "\n",
       "    .dataframe tbody tr th {\n",
       "        vertical-align: top;\n",
       "    }\n",
       "\n",
       "    .dataframe thead th {\n",
       "        text-align: right;\n",
       "    }\n",
       "</style>\n",
       "<table border=\"1\" class=\"dataframe\">\n",
       "  <thead>\n",
       "    <tr style=\"text-align: right;\">\n",
       "      <th></th>\n",
       "      <th>Maas</th>\n",
       "      <th>Yas</th>\n",
       "      <th>CalismaSaati</th>\n",
       "    </tr>\n",
       "  </thead>\n",
       "  <tbody>\n",
       "    <tr>\n",
       "      <th>Recep</th>\n",
       "      <td>0.601639</td>\n",
       "      <td>1.103441</td>\n",
       "      <td>1.486933</td>\n",
       "    </tr>\n",
       "    <tr>\n",
       "      <th>Zeynep</th>\n",
       "      <td>0.448523</td>\n",
       "      <td>0.142583</td>\n",
       "      <td>1.354011</td>\n",
       "    </tr>\n",
       "    <tr>\n",
       "      <th>Atlas</th>\n",
       "      <td>-1.144650</td>\n",
       "      <td>-0.200263</td>\n",
       "      <td>0.941529</td>\n",
       "    </tr>\n",
       "    <tr>\n",
       "      <th>Mehmet</th>\n",
       "      <td>-0.428799</td>\n",
       "      <td>0.898917</td>\n",
       "      <td>0.572146</td>\n",
       "    </tr>\n",
       "  </tbody>\n",
       "</table>\n",
       "</div>"
      ],
      "text/plain": [
       "            Maas       Yas  CalismaSaati\n",
       "Recep   0.601639  1.103441      1.486933\n",
       "Zeynep  0.448523  0.142583      1.354011\n",
       "Atlas  -1.144650 -0.200263      0.941529\n",
       "Mehmet -0.428799  0.898917      0.572146"
      ]
     },
     "execution_count": 72,
     "metadata": {},
     "output_type": "execute_result"
    }
   ],
   "source": [
    "yeniDataFrame"
   ]
  },
  {
   "cell_type": "code",
   "execution_count": 73,
   "id": "127c28e7",
   "metadata": {},
   "outputs": [
    {
     "data": {
      "text/plain": [
       "Maas            0.601639\n",
       "Yas             1.103441\n",
       "CalismaSaati    1.486933\n",
       "Name: Recep, dtype: float64"
      ]
     },
     "execution_count": 73,
     "metadata": {},
     "output_type": "execute_result"
    }
   ],
   "source": [
    "yeniDataFrame.loc[\"Recep\"] # satırdan veri çektik, normalde sütundn çekiyordu"
   ]
  },
  {
   "cell_type": "code",
   "execution_count": 74,
   "id": "6b3adf93",
   "metadata": {},
   "outputs": [
    {
     "data": {
      "text/plain": [
       "Maas            0.448523\n",
       "Yas             0.142583\n",
       "CalismaSaati    1.354011\n",
       "Name: Zeynep, dtype: float64"
      ]
     },
     "execution_count": 74,
     "metadata": {},
     "output_type": "execute_result"
    }
   ],
   "source": [
    "yeniDataFrame.loc[\"Zeynep\"]"
   ]
  },
  {
   "cell_type": "code",
   "execution_count": 75,
   "id": "0a263551",
   "metadata": {},
   "outputs": [
    {
     "data": {
      "text/plain": [
       "Maas            0.448523\n",
       "Yas             0.142583\n",
       "CalismaSaati    1.354011\n",
       "Name: Zeynep, dtype: float64"
      ]
     },
     "execution_count": 75,
     "metadata": {},
     "output_type": "execute_result"
    }
   ],
   "source": [
    "yeniDataFrame.iloc[1] # index odaklı loc'lama"
   ]
  },
  {
   "cell_type": "code",
   "execution_count": 76,
   "id": "82f0eb63",
   "metadata": {},
   "outputs": [
    {
     "data": {
      "text/plain": [
       "Recep     0.601639\n",
       "Zeynep    0.448523\n",
       "Atlas    -1.144650\n",
       "Mehmet   -0.428799\n",
       "Name: Maas, dtype: float64"
      ]
     },
     "execution_count": 76,
     "metadata": {},
     "output_type": "execute_result"
    }
   ],
   "source": [
    "yeniDataFrame[\"Maas\"]"
   ]
  },
  {
   "cell_type": "code",
   "execution_count": 77,
   "id": "605b42f8",
   "metadata": {},
   "outputs": [],
   "source": [
    "yeniDataFrame[\"EmeklilikYasi\"] = yeniDataFrame[\"Yas\"] + yeniDataFrame[\"Yas\"]"
   ]
  },
  {
   "cell_type": "code",
   "execution_count": 78,
   "id": "f3689d99",
   "metadata": {},
   "outputs": [
    {
     "data": {
      "text/html": [
       "<div>\n",
       "<style scoped>\n",
       "    .dataframe tbody tr th:only-of-type {\n",
       "        vertical-align: middle;\n",
       "    }\n",
       "\n",
       "    .dataframe tbody tr th {\n",
       "        vertical-align: top;\n",
       "    }\n",
       "\n",
       "    .dataframe thead th {\n",
       "        text-align: right;\n",
       "    }\n",
       "</style>\n",
       "<table border=\"1\" class=\"dataframe\">\n",
       "  <thead>\n",
       "    <tr style=\"text-align: right;\">\n",
       "      <th></th>\n",
       "      <th>Maas</th>\n",
       "      <th>Yas</th>\n",
       "      <th>CalismaSaati</th>\n",
       "      <th>EmeklilikYasi</th>\n",
       "    </tr>\n",
       "  </thead>\n",
       "  <tbody>\n",
       "    <tr>\n",
       "      <th>Recep</th>\n",
       "      <td>0.601639</td>\n",
       "      <td>1.103441</td>\n",
       "      <td>1.486933</td>\n",
       "      <td>2.206881</td>\n",
       "    </tr>\n",
       "    <tr>\n",
       "      <th>Zeynep</th>\n",
       "      <td>0.448523</td>\n",
       "      <td>0.142583</td>\n",
       "      <td>1.354011</td>\n",
       "      <td>0.285166</td>\n",
       "    </tr>\n",
       "    <tr>\n",
       "      <th>Atlas</th>\n",
       "      <td>-1.144650</td>\n",
       "      <td>-0.200263</td>\n",
       "      <td>0.941529</td>\n",
       "      <td>-0.400527</td>\n",
       "    </tr>\n",
       "    <tr>\n",
       "      <th>Mehmet</th>\n",
       "      <td>-0.428799</td>\n",
       "      <td>0.898917</td>\n",
       "      <td>0.572146</td>\n",
       "      <td>1.797834</td>\n",
       "    </tr>\n",
       "  </tbody>\n",
       "</table>\n",
       "</div>"
      ],
      "text/plain": [
       "            Maas       Yas  CalismaSaati  EmeklilikYasi\n",
       "Recep   0.601639  1.103441      1.486933       2.206881\n",
       "Zeynep  0.448523  0.142583      1.354011       0.285166\n",
       "Atlas  -1.144650 -0.200263      0.941529      -0.400527\n",
       "Mehmet -0.428799  0.898917      0.572146       1.797834"
      ]
     },
     "execution_count": 78,
     "metadata": {},
     "output_type": "execute_result"
    }
   ],
   "source": [
    "yeniDataFrame"
   ]
  },
  {
   "cell_type": "code",
   "execution_count": 79,
   "id": "34bd2eb5",
   "metadata": {},
   "outputs": [
    {
     "data": {
      "text/html": [
       "<div>\n",
       "<style scoped>\n",
       "    .dataframe tbody tr th:only-of-type {\n",
       "        vertical-align: middle;\n",
       "    }\n",
       "\n",
       "    .dataframe tbody tr th {\n",
       "        vertical-align: top;\n",
       "    }\n",
       "\n",
       "    .dataframe thead th {\n",
       "        text-align: right;\n",
       "    }\n",
       "</style>\n",
       "<table border=\"1\" class=\"dataframe\">\n",
       "  <thead>\n",
       "    <tr style=\"text-align: right;\">\n",
       "      <th></th>\n",
       "      <th>Maas</th>\n",
       "      <th>Yas</th>\n",
       "      <th>CalismaSaati</th>\n",
       "    </tr>\n",
       "  </thead>\n",
       "  <tbody>\n",
       "    <tr>\n",
       "      <th>Recep</th>\n",
       "      <td>0.601639</td>\n",
       "      <td>1.103441</td>\n",
       "      <td>1.486933</td>\n",
       "    </tr>\n",
       "    <tr>\n",
       "      <th>Zeynep</th>\n",
       "      <td>0.448523</td>\n",
       "      <td>0.142583</td>\n",
       "      <td>1.354011</td>\n",
       "    </tr>\n",
       "    <tr>\n",
       "      <th>Atlas</th>\n",
       "      <td>-1.144650</td>\n",
       "      <td>-0.200263</td>\n",
       "      <td>0.941529</td>\n",
       "    </tr>\n",
       "    <tr>\n",
       "      <th>Mehmet</th>\n",
       "      <td>-0.428799</td>\n",
       "      <td>0.898917</td>\n",
       "      <td>0.572146</td>\n",
       "    </tr>\n",
       "  </tbody>\n",
       "</table>\n",
       "</div>"
      ],
      "text/plain": [
       "            Maas       Yas  CalismaSaati\n",
       "Recep   0.601639  1.103441      1.486933\n",
       "Zeynep  0.448523  0.142583      1.354011\n",
       "Atlas  -1.144650 -0.200263      0.941529\n",
       "Mehmet -0.428799  0.898917      0.572146"
      ]
     },
     "execution_count": 79,
     "metadata": {},
     "output_type": "execute_result"
    }
   ],
   "source": [
    "yeniDataFrame.drop(\"EmeklilikYasi\",axis = 1) # sütundan eleman silmek için axis = 1 kullanılır"
   ]
  },
  {
   "cell_type": "code",
   "execution_count": 80,
   "id": "98b16675",
   "metadata": {},
   "outputs": [
    {
     "data": {
      "text/html": [
       "<div>\n",
       "<style scoped>\n",
       "    .dataframe tbody tr th:only-of-type {\n",
       "        vertical-align: middle;\n",
       "    }\n",
       "\n",
       "    .dataframe tbody tr th {\n",
       "        vertical-align: top;\n",
       "    }\n",
       "\n",
       "    .dataframe thead th {\n",
       "        text-align: right;\n",
       "    }\n",
       "</style>\n",
       "<table border=\"1\" class=\"dataframe\">\n",
       "  <thead>\n",
       "    <tr style=\"text-align: right;\">\n",
       "      <th></th>\n",
       "      <th>Maas</th>\n",
       "      <th>Yas</th>\n",
       "      <th>CalismaSaati</th>\n",
       "      <th>EmeklilikYasi</th>\n",
       "    </tr>\n",
       "  </thead>\n",
       "  <tbody>\n",
       "    <tr>\n",
       "      <th>Recep</th>\n",
       "      <td>0.601639</td>\n",
       "      <td>1.103441</td>\n",
       "      <td>1.486933</td>\n",
       "      <td>2.206881</td>\n",
       "    </tr>\n",
       "    <tr>\n",
       "      <th>Zeynep</th>\n",
       "      <td>0.448523</td>\n",
       "      <td>0.142583</td>\n",
       "      <td>1.354011</td>\n",
       "      <td>0.285166</td>\n",
       "    </tr>\n",
       "    <tr>\n",
       "      <th>Atlas</th>\n",
       "      <td>-1.144650</td>\n",
       "      <td>-0.200263</td>\n",
       "      <td>0.941529</td>\n",
       "      <td>-0.400527</td>\n",
       "    </tr>\n",
       "  </tbody>\n",
       "</table>\n",
       "</div>"
      ],
      "text/plain": [
       "            Maas       Yas  CalismaSaati  EmeklilikYasi\n",
       "Recep   0.601639  1.103441      1.486933       2.206881\n",
       "Zeynep  0.448523  0.142583      1.354011       0.285166\n",
       "Atlas  -1.144650 -0.200263      0.941529      -0.400527"
      ]
     },
     "execution_count": 80,
     "metadata": {},
     "output_type": "execute_result"
    }
   ],
   "source": [
    "# satır da (row) yazmasak da default olarak zaten satır üzerinde arıyor ilk, ne olur olmaz yazdık\n",
    "yeniDataFrame.drop(\"Mehmet\",axis = 0) "
   ]
  },
  {
   "cell_type": "code",
   "execution_count": 81,
   "id": "947bfb8d",
   "metadata": {},
   "outputs": [
    {
     "data": {
      "text/html": [
       "<div>\n",
       "<style scoped>\n",
       "    .dataframe tbody tr th:only-of-type {\n",
       "        vertical-align: middle;\n",
       "    }\n",
       "\n",
       "    .dataframe tbody tr th {\n",
       "        vertical-align: top;\n",
       "    }\n",
       "\n",
       "    .dataframe thead th {\n",
       "        text-align: right;\n",
       "    }\n",
       "</style>\n",
       "<table border=\"1\" class=\"dataframe\">\n",
       "  <thead>\n",
       "    <tr style=\"text-align: right;\">\n",
       "      <th></th>\n",
       "      <th>Maas</th>\n",
       "      <th>Yas</th>\n",
       "      <th>CalismaSaati</th>\n",
       "      <th>EmeklilikYasi</th>\n",
       "    </tr>\n",
       "  </thead>\n",
       "  <tbody>\n",
       "    <tr>\n",
       "      <th>Recep</th>\n",
       "      <td>0.601639</td>\n",
       "      <td>1.103441</td>\n",
       "      <td>1.486933</td>\n",
       "      <td>2.206881</td>\n",
       "    </tr>\n",
       "    <tr>\n",
       "      <th>Zeynep</th>\n",
       "      <td>0.448523</td>\n",
       "      <td>0.142583</td>\n",
       "      <td>1.354011</td>\n",
       "      <td>0.285166</td>\n",
       "    </tr>\n",
       "    <tr>\n",
       "      <th>Atlas</th>\n",
       "      <td>-1.144650</td>\n",
       "      <td>-0.200263</td>\n",
       "      <td>0.941529</td>\n",
       "      <td>-0.400527</td>\n",
       "    </tr>\n",
       "    <tr>\n",
       "      <th>Mehmet</th>\n",
       "      <td>-0.428799</td>\n",
       "      <td>0.898917</td>\n",
       "      <td>0.572146</td>\n",
       "      <td>1.797834</td>\n",
       "    </tr>\n",
       "  </tbody>\n",
       "</table>\n",
       "</div>"
      ],
      "text/plain": [
       "            Maas       Yas  CalismaSaati  EmeklilikYasi\n",
       "Recep   0.601639  1.103441      1.486933       2.206881\n",
       "Zeynep  0.448523  0.142583      1.354011       0.285166\n",
       "Atlas  -1.144650 -0.200263      0.941529      -0.400527\n",
       "Mehmet -0.428799  0.898917      0.572146       1.797834"
      ]
     },
     "execution_count": 81,
     "metadata": {},
     "output_type": "execute_result"
    }
   ],
   "source": [
    "yeniDataFrame"
   ]
  },
  {
   "cell_type": "code",
   "execution_count": 82,
   "id": "a3b290f9",
   "metadata": {},
   "outputs": [],
   "source": [
    "yeniDataFrame.drop(\"EmeklilikYasi\", axis = 1, inplace=True) # kalıcı olarak silmesini sağlamak için inplace kullanılıyor"
   ]
  },
  {
   "cell_type": "code",
   "execution_count": 83,
   "id": "c67e43f8",
   "metadata": {},
   "outputs": [
    {
     "data": {
      "text/html": [
       "<div>\n",
       "<style scoped>\n",
       "    .dataframe tbody tr th:only-of-type {\n",
       "        vertical-align: middle;\n",
       "    }\n",
       "\n",
       "    .dataframe tbody tr th {\n",
       "        vertical-align: top;\n",
       "    }\n",
       "\n",
       "    .dataframe thead th {\n",
       "        text-align: right;\n",
       "    }\n",
       "</style>\n",
       "<table border=\"1\" class=\"dataframe\">\n",
       "  <thead>\n",
       "    <tr style=\"text-align: right;\">\n",
       "      <th></th>\n",
       "      <th>Maas</th>\n",
       "      <th>Yas</th>\n",
       "      <th>CalismaSaati</th>\n",
       "    </tr>\n",
       "  </thead>\n",
       "  <tbody>\n",
       "    <tr>\n",
       "      <th>Recep</th>\n",
       "      <td>0.601639</td>\n",
       "      <td>1.103441</td>\n",
       "      <td>1.486933</td>\n",
       "    </tr>\n",
       "    <tr>\n",
       "      <th>Zeynep</th>\n",
       "      <td>0.448523</td>\n",
       "      <td>0.142583</td>\n",
       "      <td>1.354011</td>\n",
       "    </tr>\n",
       "    <tr>\n",
       "      <th>Atlas</th>\n",
       "      <td>-1.144650</td>\n",
       "      <td>-0.200263</td>\n",
       "      <td>0.941529</td>\n",
       "    </tr>\n",
       "    <tr>\n",
       "      <th>Mehmet</th>\n",
       "      <td>-0.428799</td>\n",
       "      <td>0.898917</td>\n",
       "      <td>0.572146</td>\n",
       "    </tr>\n",
       "  </tbody>\n",
       "</table>\n",
       "</div>"
      ],
      "text/plain": [
       "            Maas       Yas  CalismaSaati\n",
       "Recep   0.601639  1.103441      1.486933\n",
       "Zeynep  0.448523  0.142583      1.354011\n",
       "Atlas  -1.144650 -0.200263      0.941529\n",
       "Mehmet -0.428799  0.898917      0.572146"
      ]
     },
     "execution_count": 83,
     "metadata": {},
     "output_type": "execute_result"
    }
   ],
   "source": [
    "yeniDataFrame"
   ]
  },
  {
   "cell_type": "code",
   "execution_count": 84,
   "id": "3091259a",
   "metadata": {},
   "outputs": [
    {
     "data": {
      "text/plain": [
       "1.103440611920274"
      ]
     },
     "execution_count": 84,
     "metadata": {},
     "output_type": "execute_result"
    }
   ],
   "source": [
    "yeniDataFrame.loc[\"Recep\"][\"Yas\"] # Recep'in yasi"
   ]
  },
  {
   "cell_type": "code",
   "execution_count": 85,
   "id": "0735a8ed",
   "metadata": {},
   "outputs": [
    {
     "data": {
      "text/plain": [
       "-0.2002633549645242"
      ]
     },
     "execution_count": 85,
     "metadata": {},
     "output_type": "execute_result"
    }
   ],
   "source": [
    "yeniDataFrame.loc[\"Atlas\",\"Yas\"] # böyle de getiriliyor"
   ]
  },
  {
   "cell_type": "code",
   "execution_count": 86,
   "id": "171720f7",
   "metadata": {},
   "outputs": [
    {
     "data": {
      "text/html": [
       "<div>\n",
       "<style scoped>\n",
       "    .dataframe tbody tr th:only-of-type {\n",
       "        vertical-align: middle;\n",
       "    }\n",
       "\n",
       "    .dataframe tbody tr th {\n",
       "        vertical-align: top;\n",
       "    }\n",
       "\n",
       "    .dataframe thead th {\n",
       "        text-align: right;\n",
       "    }\n",
       "</style>\n",
       "<table border=\"1\" class=\"dataframe\">\n",
       "  <thead>\n",
       "    <tr style=\"text-align: right;\">\n",
       "      <th></th>\n",
       "      <th>Maas</th>\n",
       "      <th>Yas</th>\n",
       "      <th>CalismaSaati</th>\n",
       "    </tr>\n",
       "  </thead>\n",
       "  <tbody>\n",
       "    <tr>\n",
       "      <th>Recep</th>\n",
       "      <td>0.601639</td>\n",
       "      <td>1.103441</td>\n",
       "      <td>1.486933</td>\n",
       "    </tr>\n",
       "    <tr>\n",
       "      <th>Zeynep</th>\n",
       "      <td>0.448523</td>\n",
       "      <td>0.142583</td>\n",
       "      <td>1.354011</td>\n",
       "    </tr>\n",
       "    <tr>\n",
       "      <th>Atlas</th>\n",
       "      <td>-1.144650</td>\n",
       "      <td>-0.200263</td>\n",
       "      <td>0.941529</td>\n",
       "    </tr>\n",
       "    <tr>\n",
       "      <th>Mehmet</th>\n",
       "      <td>-0.428799</td>\n",
       "      <td>0.898917</td>\n",
       "      <td>0.572146</td>\n",
       "    </tr>\n",
       "  </tbody>\n",
       "</table>\n",
       "</div>"
      ],
      "text/plain": [
       "            Maas       Yas  CalismaSaati\n",
       "Recep   0.601639  1.103441      1.486933\n",
       "Zeynep  0.448523  0.142583      1.354011\n",
       "Atlas  -1.144650 -0.200263      0.941529\n",
       "Mehmet -0.428799  0.898917      0.572146"
      ]
     },
     "execution_count": 86,
     "metadata": {},
     "output_type": "execute_result"
    }
   ],
   "source": [
    "yeniDataFrame"
   ]
  },
  {
   "cell_type": "code",
   "execution_count": 92,
   "id": "f2764f55",
   "metadata": {},
   "outputs": [],
   "source": [
    "booleanFrame = yeniDataFrame < 0 # o'dan küçük değerleri yeni değişkene atadık"
   ]
  },
  {
   "cell_type": "code",
   "execution_count": 93,
   "id": "1fae78b2",
   "metadata": {},
   "outputs": [
    {
     "data": {
      "text/html": [
       "<div>\n",
       "<style scoped>\n",
       "    .dataframe tbody tr th:only-of-type {\n",
       "        vertical-align: middle;\n",
       "    }\n",
       "\n",
       "    .dataframe tbody tr th {\n",
       "        vertical-align: top;\n",
       "    }\n",
       "\n",
       "    .dataframe thead th {\n",
       "        text-align: right;\n",
       "    }\n",
       "</style>\n",
       "<table border=\"1\" class=\"dataframe\">\n",
       "  <thead>\n",
       "    <tr style=\"text-align: right;\">\n",
       "      <th></th>\n",
       "      <th>Maas</th>\n",
       "      <th>Yas</th>\n",
       "      <th>CalismaSaati</th>\n",
       "    </tr>\n",
       "  </thead>\n",
       "  <tbody>\n",
       "    <tr>\n",
       "      <th>Recep</th>\n",
       "      <td>False</td>\n",
       "      <td>False</td>\n",
       "      <td>False</td>\n",
       "    </tr>\n",
       "    <tr>\n",
       "      <th>Zeynep</th>\n",
       "      <td>False</td>\n",
       "      <td>False</td>\n",
       "      <td>False</td>\n",
       "    </tr>\n",
       "    <tr>\n",
       "      <th>Atlas</th>\n",
       "      <td>True</td>\n",
       "      <td>True</td>\n",
       "      <td>False</td>\n",
       "    </tr>\n",
       "    <tr>\n",
       "      <th>Mehmet</th>\n",
       "      <td>True</td>\n",
       "      <td>False</td>\n",
       "      <td>False</td>\n",
       "    </tr>\n",
       "  </tbody>\n",
       "</table>\n",
       "</div>"
      ],
      "text/plain": [
       "         Maas    Yas  CalismaSaati\n",
       "Recep   False  False         False\n",
       "Zeynep  False  False         False\n",
       "Atlas    True   True         False\n",
       "Mehmet   True  False         False"
      ]
     },
     "execution_count": 93,
     "metadata": {},
     "output_type": "execute_result"
    }
   ],
   "source": [
    "booleanFrame"
   ]
  },
  {
   "cell_type": "code",
   "execution_count": 94,
   "id": "161332ca",
   "metadata": {},
   "outputs": [
    {
     "data": {
      "text/html": [
       "<div>\n",
       "<style scoped>\n",
       "    .dataframe tbody tr th:only-of-type {\n",
       "        vertical-align: middle;\n",
       "    }\n",
       "\n",
       "    .dataframe tbody tr th {\n",
       "        vertical-align: top;\n",
       "    }\n",
       "\n",
       "    .dataframe thead th {\n",
       "        text-align: right;\n",
       "    }\n",
       "</style>\n",
       "<table border=\"1\" class=\"dataframe\">\n",
       "  <thead>\n",
       "    <tr style=\"text-align: right;\">\n",
       "      <th></th>\n",
       "      <th>Maas</th>\n",
       "      <th>Yas</th>\n",
       "      <th>CalismaSaati</th>\n",
       "    </tr>\n",
       "  </thead>\n",
       "  <tbody>\n",
       "    <tr>\n",
       "      <th>Recep</th>\n",
       "      <td>NaN</td>\n",
       "      <td>NaN</td>\n",
       "      <td>NaN</td>\n",
       "    </tr>\n",
       "    <tr>\n",
       "      <th>Zeynep</th>\n",
       "      <td>NaN</td>\n",
       "      <td>NaN</td>\n",
       "      <td>NaN</td>\n",
       "    </tr>\n",
       "    <tr>\n",
       "      <th>Atlas</th>\n",
       "      <td>-1.144650</td>\n",
       "      <td>-0.200263</td>\n",
       "      <td>NaN</td>\n",
       "    </tr>\n",
       "    <tr>\n",
       "      <th>Mehmet</th>\n",
       "      <td>-0.428799</td>\n",
       "      <td>NaN</td>\n",
       "      <td>NaN</td>\n",
       "    </tr>\n",
       "  </tbody>\n",
       "</table>\n",
       "</div>"
      ],
      "text/plain": [
       "            Maas       Yas  CalismaSaati\n",
       "Recep        NaN       NaN           NaN\n",
       "Zeynep       NaN       NaN           NaN\n",
       "Atlas  -1.144650 -0.200263           NaN\n",
       "Mehmet -0.428799       NaN           NaN"
      ]
     },
     "execution_count": 94,
     "metadata": {},
     "output_type": "execute_result"
    }
   ],
   "source": [
    "yeniDataFrame[booleanFrame]"
   ]
  },
  {
   "cell_type": "code",
   "execution_count": 95,
   "id": "573c6401",
   "metadata": {},
   "outputs": [
    {
     "data": {
      "text/html": [
       "<div>\n",
       "<style scoped>\n",
       "    .dataframe tbody tr th:only-of-type {\n",
       "        vertical-align: middle;\n",
       "    }\n",
       "\n",
       "    .dataframe tbody tr th {\n",
       "        vertical-align: top;\n",
       "    }\n",
       "\n",
       "    .dataframe thead th {\n",
       "        text-align: right;\n",
       "    }\n",
       "</style>\n",
       "<table border=\"1\" class=\"dataframe\">\n",
       "  <thead>\n",
       "    <tr style=\"text-align: right;\">\n",
       "      <th></th>\n",
       "      <th>Maas</th>\n",
       "      <th>Yas</th>\n",
       "      <th>CalismaSaati</th>\n",
       "    </tr>\n",
       "  </thead>\n",
       "  <tbody>\n",
       "    <tr>\n",
       "      <th>Recep</th>\n",
       "      <td>NaN</td>\n",
       "      <td>NaN</td>\n",
       "      <td>NaN</td>\n",
       "    </tr>\n",
       "    <tr>\n",
       "      <th>Zeynep</th>\n",
       "      <td>NaN</td>\n",
       "      <td>NaN</td>\n",
       "      <td>NaN</td>\n",
       "    </tr>\n",
       "    <tr>\n",
       "      <th>Atlas</th>\n",
       "      <td>-1.144650</td>\n",
       "      <td>-0.200263</td>\n",
       "      <td>NaN</td>\n",
       "    </tr>\n",
       "    <tr>\n",
       "      <th>Mehmet</th>\n",
       "      <td>-0.428799</td>\n",
       "      <td>NaN</td>\n",
       "      <td>NaN</td>\n",
       "    </tr>\n",
       "  </tbody>\n",
       "</table>\n",
       "</div>"
      ],
      "text/plain": [
       "            Maas       Yas  CalismaSaati\n",
       "Recep        NaN       NaN           NaN\n",
       "Zeynep       NaN       NaN           NaN\n",
       "Atlas  -1.144650 -0.200263           NaN\n",
       "Mehmet -0.428799       NaN           NaN"
      ]
     },
     "execution_count": 95,
     "metadata": {},
     "output_type": "execute_result"
    }
   ],
   "source": [
    "yeniDataFrame[yeniDataFrame < 0]"
   ]
  },
  {
   "cell_type": "code",
   "execution_count": 97,
   "id": "efeb6155",
   "metadata": {},
   "outputs": [
    {
     "data": {
      "text/html": [
       "<div>\n",
       "<style scoped>\n",
       "    .dataframe tbody tr th:only-of-type {\n",
       "        vertical-align: middle;\n",
       "    }\n",
       "\n",
       "    .dataframe tbody tr th {\n",
       "        vertical-align: top;\n",
       "    }\n",
       "\n",
       "    .dataframe thead th {\n",
       "        text-align: right;\n",
       "    }\n",
       "</style>\n",
       "<table border=\"1\" class=\"dataframe\">\n",
       "  <thead>\n",
       "    <tr style=\"text-align: right;\">\n",
       "      <th></th>\n",
       "      <th>Maas</th>\n",
       "      <th>Yas</th>\n",
       "      <th>CalismaSaati</th>\n",
       "    </tr>\n",
       "  </thead>\n",
       "  <tbody>\n",
       "    <tr>\n",
       "      <th>Recep</th>\n",
       "      <td>0.601639</td>\n",
       "      <td>1.103441</td>\n",
       "      <td>1.486933</td>\n",
       "    </tr>\n",
       "    <tr>\n",
       "      <th>Zeynep</th>\n",
       "      <td>0.448523</td>\n",
       "      <td>0.142583</td>\n",
       "      <td>1.354011</td>\n",
       "    </tr>\n",
       "    <tr>\n",
       "      <th>Mehmet</th>\n",
       "      <td>-0.428799</td>\n",
       "      <td>0.898917</td>\n",
       "      <td>0.572146</td>\n",
       "    </tr>\n",
       "  </tbody>\n",
       "</table>\n",
       "</div>"
      ],
      "text/plain": [
       "            Maas       Yas  CalismaSaati\n",
       "Recep   0.601639  1.103441      1.486933\n",
       "Zeynep  0.448523  0.142583      1.354011\n",
       "Mehmet -0.428799  0.898917      0.572146"
      ]
     },
     "execution_count": 97,
     "metadata": {},
     "output_type": "execute_result"
    }
   ],
   "source": [
    "yeniDataFrame[yeniDataFrame[\"Yas\"] > 0] # yas kolonunda sadece 0 dan büyük değerleri getir atlas gelmedi mesela"
   ]
  },
  {
   "cell_type": "code",
   "execution_count": null,
   "id": "ccf1500c",
   "metadata": {},
   "outputs": [],
   "source": []
  },
  {
   "cell_type": "code",
   "execution_count": 99,
   "id": "6d73b027",
   "metadata": {},
   "outputs": [
    {
     "data": {
      "text/html": [
       "<div>\n",
       "<style scoped>\n",
       "    .dataframe tbody tr th:only-of-type {\n",
       "        vertical-align: middle;\n",
       "    }\n",
       "\n",
       "    .dataframe tbody tr th {\n",
       "        vertical-align: top;\n",
       "    }\n",
       "\n",
       "    .dataframe thead th {\n",
       "        text-align: right;\n",
       "    }\n",
       "</style>\n",
       "<table border=\"1\" class=\"dataframe\">\n",
       "  <thead>\n",
       "    <tr style=\"text-align: right;\">\n",
       "      <th></th>\n",
       "      <th>Maas</th>\n",
       "      <th>Yas</th>\n",
       "      <th>CalismaSaati</th>\n",
       "    </tr>\n",
       "  </thead>\n",
       "  <tbody>\n",
       "    <tr>\n",
       "      <th>Recep</th>\n",
       "      <td>0.601639</td>\n",
       "      <td>1.103441</td>\n",
       "      <td>1.486933</td>\n",
       "    </tr>\n",
       "    <tr>\n",
       "      <th>Zeynep</th>\n",
       "      <td>0.448523</td>\n",
       "      <td>0.142583</td>\n",
       "      <td>1.354011</td>\n",
       "    </tr>\n",
       "    <tr>\n",
       "      <th>Atlas</th>\n",
       "      <td>-1.144650</td>\n",
       "      <td>-0.200263</td>\n",
       "      <td>0.941529</td>\n",
       "    </tr>\n",
       "    <tr>\n",
       "      <th>Mehmet</th>\n",
       "      <td>-0.428799</td>\n",
       "      <td>0.898917</td>\n",
       "      <td>0.572146</td>\n",
       "    </tr>\n",
       "  </tbody>\n",
       "</table>\n",
       "</div>"
      ],
      "text/plain": [
       "            Maas       Yas  CalismaSaati\n",
       "Recep   0.601639  1.103441      1.486933\n",
       "Zeynep  0.448523  0.142583      1.354011\n",
       "Atlas  -1.144650 -0.200263      0.941529\n",
       "Mehmet -0.428799  0.898917      0.572146"
      ]
     },
     "execution_count": 99,
     "metadata": {},
     "output_type": "execute_result"
    }
   ],
   "source": [
    "yeniDataFrame[yeniDataFrame[\"CalismaSaati\"] > 0]"
   ]
  },
  {
   "cell_type": "code",
   "execution_count": 102,
   "id": "479ef7f6",
   "metadata": {},
   "outputs": [
    {
     "data": {
      "text/html": [
       "<div>\n",
       "<style scoped>\n",
       "    .dataframe tbody tr th:only-of-type {\n",
       "        vertical-align: middle;\n",
       "    }\n",
       "\n",
       "    .dataframe tbody tr th {\n",
       "        vertical-align: top;\n",
       "    }\n",
       "\n",
       "    .dataframe thead th {\n",
       "        text-align: right;\n",
       "    }\n",
       "</style>\n",
       "<table border=\"1\" class=\"dataframe\">\n",
       "  <thead>\n",
       "    <tr style=\"text-align: right;\">\n",
       "      <th></th>\n",
       "      <th>index</th>\n",
       "      <th>Maas</th>\n",
       "      <th>Yas</th>\n",
       "      <th>CalismaSaati</th>\n",
       "    </tr>\n",
       "  </thead>\n",
       "  <tbody>\n",
       "    <tr>\n",
       "      <th>0</th>\n",
       "      <td>Recep</td>\n",
       "      <td>0.601639</td>\n",
       "      <td>1.103441</td>\n",
       "      <td>1.486933</td>\n",
       "    </tr>\n",
       "    <tr>\n",
       "      <th>1</th>\n",
       "      <td>Zeynep</td>\n",
       "      <td>0.448523</td>\n",
       "      <td>0.142583</td>\n",
       "      <td>1.354011</td>\n",
       "    </tr>\n",
       "    <tr>\n",
       "      <th>2</th>\n",
       "      <td>Atlas</td>\n",
       "      <td>-1.144650</td>\n",
       "      <td>-0.200263</td>\n",
       "      <td>0.941529</td>\n",
       "    </tr>\n",
       "    <tr>\n",
       "      <th>3</th>\n",
       "      <td>Mehmet</td>\n",
       "      <td>-0.428799</td>\n",
       "      <td>0.898917</td>\n",
       "      <td>0.572146</td>\n",
       "    </tr>\n",
       "  </tbody>\n",
       "</table>\n",
       "</div>"
      ],
      "text/plain": [
       "    index      Maas       Yas  CalismaSaati\n",
       "0   Recep  0.601639  1.103441      1.486933\n",
       "1  Zeynep  0.448523  0.142583      1.354011\n",
       "2   Atlas -1.144650 -0.200263      0.941529\n",
       "3  Mehmet -0.428799  0.898917      0.572146"
      ]
     },
     "execution_count": 102,
     "metadata": {},
     "output_type": "execute_result"
    }
   ],
   "source": [
    "yeniDataFrame.reset_index() # index'leri sıfırlıyor"
   ]
  },
  {
   "cell_type": "code",
   "execution_count": 103,
   "id": "1b22f923",
   "metadata": {},
   "outputs": [
    {
     "data": {
      "text/html": [
       "<div>\n",
       "<style scoped>\n",
       "    .dataframe tbody tr th:only-of-type {\n",
       "        vertical-align: middle;\n",
       "    }\n",
       "\n",
       "    .dataframe tbody tr th {\n",
       "        vertical-align: top;\n",
       "    }\n",
       "\n",
       "    .dataframe thead th {\n",
       "        text-align: right;\n",
       "    }\n",
       "</style>\n",
       "<table border=\"1\" class=\"dataframe\">\n",
       "  <thead>\n",
       "    <tr style=\"text-align: right;\">\n",
       "      <th></th>\n",
       "      <th>Maas</th>\n",
       "      <th>Yas</th>\n",
       "      <th>CalismaSaati</th>\n",
       "    </tr>\n",
       "  </thead>\n",
       "  <tbody>\n",
       "    <tr>\n",
       "      <th>Recep</th>\n",
       "      <td>0.601639</td>\n",
       "      <td>1.103441</td>\n",
       "      <td>1.486933</td>\n",
       "    </tr>\n",
       "    <tr>\n",
       "      <th>Zeynep</th>\n",
       "      <td>0.448523</td>\n",
       "      <td>0.142583</td>\n",
       "      <td>1.354011</td>\n",
       "    </tr>\n",
       "    <tr>\n",
       "      <th>Atlas</th>\n",
       "      <td>-1.144650</td>\n",
       "      <td>-0.200263</td>\n",
       "      <td>0.941529</td>\n",
       "    </tr>\n",
       "    <tr>\n",
       "      <th>Mehmet</th>\n",
       "      <td>-0.428799</td>\n",
       "      <td>0.898917</td>\n",
       "      <td>0.572146</td>\n",
       "    </tr>\n",
       "  </tbody>\n",
       "</table>\n",
       "</div>"
      ],
      "text/plain": [
       "            Maas       Yas  CalismaSaati\n",
       "Recep   0.601639  1.103441      1.486933\n",
       "Zeynep  0.448523  0.142583      1.354011\n",
       "Atlas  -1.144650 -0.200263      0.941529\n",
       "Mehmet -0.428799  0.898917      0.572146"
      ]
     },
     "execution_count": 103,
     "metadata": {},
     "output_type": "execute_result"
    }
   ],
   "source": [
    "yeniDataFrame"
   ]
  },
  {
   "cell_type": "code",
   "execution_count": 104,
   "id": "ec750c5d",
   "metadata": {},
   "outputs": [],
   "source": [
    "yeniIndeksListesi = [\"Rec\",\"Zey\",\"Atl\",\"Meh\"]"
   ]
  },
  {
   "cell_type": "code",
   "execution_count": 106,
   "id": "0f7105ae",
   "metadata": {},
   "outputs": [],
   "source": [
    "yeniDataFrame[\"Yeni Indeks\"] = yeniIndeksListesi # column olarak ekledik yeni değerler"
   ]
  },
  {
   "cell_type": "code",
   "execution_count": 107,
   "id": "c564da8f",
   "metadata": {},
   "outputs": [
    {
     "data": {
      "text/html": [
       "<div>\n",
       "<style scoped>\n",
       "    .dataframe tbody tr th:only-of-type {\n",
       "        vertical-align: middle;\n",
       "    }\n",
       "\n",
       "    .dataframe tbody tr th {\n",
       "        vertical-align: top;\n",
       "    }\n",
       "\n",
       "    .dataframe thead th {\n",
       "        text-align: right;\n",
       "    }\n",
       "</style>\n",
       "<table border=\"1\" class=\"dataframe\">\n",
       "  <thead>\n",
       "    <tr style=\"text-align: right;\">\n",
       "      <th></th>\n",
       "      <th>Maas</th>\n",
       "      <th>Yas</th>\n",
       "      <th>CalismaSaati</th>\n",
       "      <th>Yeni Indeks</th>\n",
       "    </tr>\n",
       "  </thead>\n",
       "  <tbody>\n",
       "    <tr>\n",
       "      <th>Recep</th>\n",
       "      <td>0.601639</td>\n",
       "      <td>1.103441</td>\n",
       "      <td>1.486933</td>\n",
       "      <td>Rec</td>\n",
       "    </tr>\n",
       "    <tr>\n",
       "      <th>Zeynep</th>\n",
       "      <td>0.448523</td>\n",
       "      <td>0.142583</td>\n",
       "      <td>1.354011</td>\n",
       "      <td>Zey</td>\n",
       "    </tr>\n",
       "    <tr>\n",
       "      <th>Atlas</th>\n",
       "      <td>-1.144650</td>\n",
       "      <td>-0.200263</td>\n",
       "      <td>0.941529</td>\n",
       "      <td>Atl</td>\n",
       "    </tr>\n",
       "    <tr>\n",
       "      <th>Mehmet</th>\n",
       "      <td>-0.428799</td>\n",
       "      <td>0.898917</td>\n",
       "      <td>0.572146</td>\n",
       "      <td>Meh</td>\n",
       "    </tr>\n",
       "  </tbody>\n",
       "</table>\n",
       "</div>"
      ],
      "text/plain": [
       "            Maas       Yas  CalismaSaati Yeni Indeks\n",
       "Recep   0.601639  1.103441      1.486933         Rec\n",
       "Zeynep  0.448523  0.142583      1.354011         Zey\n",
       "Atlas  -1.144650 -0.200263      0.941529         Atl\n",
       "Mehmet -0.428799  0.898917      0.572146         Meh"
      ]
     },
     "execution_count": 107,
     "metadata": {},
     "output_type": "execute_result"
    }
   ],
   "source": [
    "yeniDataFrame"
   ]
  },
  {
   "cell_type": "code",
   "execution_count": 109,
   "id": "cea8dc84",
   "metadata": {},
   "outputs": [
    {
     "data": {
      "text/html": [
       "<div>\n",
       "<style scoped>\n",
       "    .dataframe tbody tr th:only-of-type {\n",
       "        vertical-align: middle;\n",
       "    }\n",
       "\n",
       "    .dataframe tbody tr th {\n",
       "        vertical-align: top;\n",
       "    }\n",
       "\n",
       "    .dataframe thead th {\n",
       "        text-align: right;\n",
       "    }\n",
       "</style>\n",
       "<table border=\"1\" class=\"dataframe\">\n",
       "  <thead>\n",
       "    <tr style=\"text-align: right;\">\n",
       "      <th></th>\n",
       "      <th>Maas</th>\n",
       "      <th>Yas</th>\n",
       "      <th>CalismaSaati</th>\n",
       "    </tr>\n",
       "    <tr>\n",
       "      <th>Yeni Indeks</th>\n",
       "      <th></th>\n",
       "      <th></th>\n",
       "      <th></th>\n",
       "    </tr>\n",
       "  </thead>\n",
       "  <tbody>\n",
       "    <tr>\n",
       "      <th>Rec</th>\n",
       "      <td>0.601639</td>\n",
       "      <td>1.103441</td>\n",
       "      <td>1.486933</td>\n",
       "    </tr>\n",
       "    <tr>\n",
       "      <th>Zey</th>\n",
       "      <td>0.448523</td>\n",
       "      <td>0.142583</td>\n",
       "      <td>1.354011</td>\n",
       "    </tr>\n",
       "    <tr>\n",
       "      <th>Atl</th>\n",
       "      <td>-1.144650</td>\n",
       "      <td>-0.200263</td>\n",
       "      <td>0.941529</td>\n",
       "    </tr>\n",
       "    <tr>\n",
       "      <th>Meh</th>\n",
       "      <td>-0.428799</td>\n",
       "      <td>0.898917</td>\n",
       "      <td>0.572146</td>\n",
       "    </tr>\n",
       "  </tbody>\n",
       "</table>\n",
       "</div>"
      ],
      "text/plain": [
       "                 Maas       Yas  CalismaSaati\n",
       "Yeni Indeks                                  \n",
       "Rec          0.601639  1.103441      1.486933\n",
       "Zey          0.448523  0.142583      1.354011\n",
       "Atl         -1.144650 -0.200263      0.941529\n",
       "Meh         -0.428799  0.898917      0.572146"
      ]
     },
     "execution_count": 109,
     "metadata": {},
     "output_type": "execute_result"
    }
   ],
   "source": [
    "yeniDataFrame.set_index(\"Yeni Indeks\") # Yeni Indeks'i row'a çektik"
   ]
  },
  {
   "cell_type": "code",
   "execution_count": 117,
   "id": "3e2234a6",
   "metadata": {},
   "outputs": [
    {
     "data": {
      "text/html": [
       "<div>\n",
       "<style scoped>\n",
       "    .dataframe tbody tr th:only-of-type {\n",
       "        vertical-align: middle;\n",
       "    }\n",
       "\n",
       "    .dataframe tbody tr th {\n",
       "        vertical-align: top;\n",
       "    }\n",
       "\n",
       "    .dataframe thead th {\n",
       "        text-align: right;\n",
       "    }\n",
       "</style>\n",
       "<table border=\"1\" class=\"dataframe\">\n",
       "  <thead>\n",
       "    <tr style=\"text-align: right;\">\n",
       "      <th></th>\n",
       "      <th>Maas</th>\n",
       "      <th>Yas</th>\n",
       "      <th>CalismaSaati</th>\n",
       "    </tr>\n",
       "    <tr>\n",
       "      <th>Yeni Indeks</th>\n",
       "      <th></th>\n",
       "      <th></th>\n",
       "      <th></th>\n",
       "    </tr>\n",
       "  </thead>\n",
       "  <tbody>\n",
       "    <tr>\n",
       "      <th>Rec</th>\n",
       "      <td>0.601639</td>\n",
       "      <td>1.103441</td>\n",
       "      <td>1.486933</td>\n",
       "    </tr>\n",
       "    <tr>\n",
       "      <th>Zey</th>\n",
       "      <td>0.448523</td>\n",
       "      <td>0.142583</td>\n",
       "      <td>1.354011</td>\n",
       "    </tr>\n",
       "    <tr>\n",
       "      <th>Atl</th>\n",
       "      <td>-1.144650</td>\n",
       "      <td>-0.200263</td>\n",
       "      <td>0.941529</td>\n",
       "    </tr>\n",
       "    <tr>\n",
       "      <th>Meh</th>\n",
       "      <td>-0.428799</td>\n",
       "      <td>0.898917</td>\n",
       "      <td>0.572146</td>\n",
       "    </tr>\n",
       "  </tbody>\n",
       "</table>\n",
       "</div>"
      ],
      "text/plain": [
       "                 Maas       Yas  CalismaSaati\n",
       "Yeni Indeks                                  \n",
       "Rec          0.601639  1.103441      1.486933\n",
       "Zey          0.448523  0.142583      1.354011\n",
       "Atl         -1.144650 -0.200263      0.941529\n",
       "Meh         -0.428799  0.898917      0.572146"
      ]
     },
     "execution_count": 117,
     "metadata": {},
     "output_type": "execute_result"
    }
   ],
   "source": [
    "yeniDataFrame"
   ]
  },
  {
   "cell_type": "code",
   "execution_count": 118,
   "id": "9145c051",
   "metadata": {},
   "outputs": [
    {
     "ename": "KeyError",
     "evalue": "\"None of ['Yeni Indeks'] are in the columns\"",
     "output_type": "error",
     "traceback": [
      "\u001b[1;31m---------------------------------------------------------------------------\u001b[0m",
      "\u001b[1;31mKeyError\u001b[0m                                  Traceback (most recent call last)",
      "\u001b[1;32m~\\AppData\\Local\\Temp/ipykernel_8800/1927931636.py\u001b[0m in \u001b[0;36m<module>\u001b[1;34m\u001b[0m\n\u001b[1;32m----> 1\u001b[1;33m \u001b[0myeniDataFrame\u001b[0m\u001b[1;33m.\u001b[0m\u001b[0mset_index\u001b[0m\u001b[1;33m(\u001b[0m\u001b[1;34m\"Yeni Indeks\"\u001b[0m\u001b[1;33m,\u001b[0m \u001b[0minplace\u001b[0m\u001b[1;33m=\u001b[0m\u001b[1;32mTrue\u001b[0m\u001b[1;33m)\u001b[0m\u001b[1;31m# kalıcı olmasını sağladık\u001b[0m\u001b[1;33m\u001b[0m\u001b[1;33m\u001b[0m\u001b[0m\n\u001b[0m",
      "\u001b[1;32m~\\anaconda3\\lib\\site-packages\\pandas\\util\\_decorators.py\u001b[0m in \u001b[0;36mwrapper\u001b[1;34m(*args, **kwargs)\u001b[0m\n\u001b[0;32m    309\u001b[0m                     \u001b[0mstacklevel\u001b[0m\u001b[1;33m=\u001b[0m\u001b[0mstacklevel\u001b[0m\u001b[1;33m,\u001b[0m\u001b[1;33m\u001b[0m\u001b[1;33m\u001b[0m\u001b[0m\n\u001b[0;32m    310\u001b[0m                 )\n\u001b[1;32m--> 311\u001b[1;33m             \u001b[1;32mreturn\u001b[0m \u001b[0mfunc\u001b[0m\u001b[1;33m(\u001b[0m\u001b[1;33m*\u001b[0m\u001b[0margs\u001b[0m\u001b[1;33m,\u001b[0m \u001b[1;33m**\u001b[0m\u001b[0mkwargs\u001b[0m\u001b[1;33m)\u001b[0m\u001b[1;33m\u001b[0m\u001b[1;33m\u001b[0m\u001b[0m\n\u001b[0m\u001b[0;32m    312\u001b[0m \u001b[1;33m\u001b[0m\u001b[0m\n\u001b[0;32m    313\u001b[0m         \u001b[1;32mreturn\u001b[0m \u001b[0mwrapper\u001b[0m\u001b[1;33m\u001b[0m\u001b[1;33m\u001b[0m\u001b[0m\n",
      "\u001b[1;32m~\\anaconda3\\lib\\site-packages\\pandas\\core\\frame.py\u001b[0m in \u001b[0;36mset_index\u001b[1;34m(self, keys, drop, append, inplace, verify_integrity)\u001b[0m\n\u001b[0;32m   5449\u001b[0m \u001b[1;33m\u001b[0m\u001b[0m\n\u001b[0;32m   5450\u001b[0m         \u001b[1;32mif\u001b[0m \u001b[0mmissing\u001b[0m\u001b[1;33m:\u001b[0m\u001b[1;33m\u001b[0m\u001b[1;33m\u001b[0m\u001b[0m\n\u001b[1;32m-> 5451\u001b[1;33m             \u001b[1;32mraise\u001b[0m \u001b[0mKeyError\u001b[0m\u001b[1;33m(\u001b[0m\u001b[1;34mf\"None of {missing} are in the columns\"\u001b[0m\u001b[1;33m)\u001b[0m\u001b[1;33m\u001b[0m\u001b[1;33m\u001b[0m\u001b[0m\n\u001b[0m\u001b[0;32m   5452\u001b[0m \u001b[1;33m\u001b[0m\u001b[0m\n\u001b[0;32m   5453\u001b[0m         \u001b[1;32mif\u001b[0m \u001b[0minplace\u001b[0m\u001b[1;33m:\u001b[0m\u001b[1;33m\u001b[0m\u001b[1;33m\u001b[0m\u001b[0m\n",
      "\u001b[1;31mKeyError\u001b[0m: \"None of ['Yeni Indeks'] are in the columns\""
     ]
    }
   ],
   "source": [
    "yeniDataFrame.set_index(\"Yeni Indeks\", inplace=True)# kalıcı olmasını sağladık"
   ]
  },
  {
   "cell_type": "code",
   "execution_count": 119,
   "id": "34c100b6",
   "metadata": {},
   "outputs": [
    {
     "data": {
      "text/html": [
       "<div>\n",
       "<style scoped>\n",
       "    .dataframe tbody tr th:only-of-type {\n",
       "        vertical-align: middle;\n",
       "    }\n",
       "\n",
       "    .dataframe tbody tr th {\n",
       "        vertical-align: top;\n",
       "    }\n",
       "\n",
       "    .dataframe thead th {\n",
       "        text-align: right;\n",
       "    }\n",
       "</style>\n",
       "<table border=\"1\" class=\"dataframe\">\n",
       "  <thead>\n",
       "    <tr style=\"text-align: right;\">\n",
       "      <th></th>\n",
       "      <th>Maas</th>\n",
       "      <th>Yas</th>\n",
       "      <th>CalismaSaati</th>\n",
       "    </tr>\n",
       "    <tr>\n",
       "      <th>Yeni Indeks</th>\n",
       "      <th></th>\n",
       "      <th></th>\n",
       "      <th></th>\n",
       "    </tr>\n",
       "  </thead>\n",
       "  <tbody>\n",
       "    <tr>\n",
       "      <th>Rec</th>\n",
       "      <td>0.601639</td>\n",
       "      <td>1.103441</td>\n",
       "      <td>1.486933</td>\n",
       "    </tr>\n",
       "    <tr>\n",
       "      <th>Zey</th>\n",
       "      <td>0.448523</td>\n",
       "      <td>0.142583</td>\n",
       "      <td>1.354011</td>\n",
       "    </tr>\n",
       "    <tr>\n",
       "      <th>Atl</th>\n",
       "      <td>-1.144650</td>\n",
       "      <td>-0.200263</td>\n",
       "      <td>0.941529</td>\n",
       "    </tr>\n",
       "    <tr>\n",
       "      <th>Meh</th>\n",
       "      <td>-0.428799</td>\n",
       "      <td>0.898917</td>\n",
       "      <td>0.572146</td>\n",
       "    </tr>\n",
       "  </tbody>\n",
       "</table>\n",
       "</div>"
      ],
      "text/plain": [
       "                 Maas       Yas  CalismaSaati\n",
       "Yeni Indeks                                  \n",
       "Rec          0.601639  1.103441      1.486933\n",
       "Zey          0.448523  0.142583      1.354011\n",
       "Atl         -1.144650 -0.200263      0.941529\n",
       "Meh         -0.428799  0.898917      0.572146"
      ]
     },
     "execution_count": 119,
     "metadata": {},
     "output_type": "execute_result"
    }
   ],
   "source": [
    "yeniDataFrame"
   ]
  },
  {
   "cell_type": "code",
   "execution_count": 120,
   "id": "b8311bc7",
   "metadata": {},
   "outputs": [
    {
     "data": {
      "text/plain": [
       "Maas            0.601639\n",
       "Yas             1.103441\n",
       "CalismaSaati    1.486933\n",
       "Name: Rec, dtype: float64"
      ]
     },
     "execution_count": 120,
     "metadata": {},
     "output_type": "execute_result"
    }
   ],
   "source": [
    "yeniDataFrame.loc[\"Rec\"]"
   ]
  },
  {
   "cell_type": "markdown",
   "id": "dab1913f",
   "metadata": {},
   "source": [
    "## MultiIndex"
   ]
  },
  {
   "cell_type": "code",
   "execution_count": 121,
   "id": "86db23fc",
   "metadata": {},
   "outputs": [],
   "source": [
    "ilkIndeksler = [\"Simpson\",\"Simpson\",\"Simpson\",\"South Park\",\"South Park\",\"South Park\"]"
   ]
  },
  {
   "cell_type": "code",
   "execution_count": 122,
   "id": "83ff741e",
   "metadata": {},
   "outputs": [],
   "source": [
    "icIndeksler = [\"Homer\",\"Bart\",\"Marge\",\"Cartman\",\"Kenny\",\"Kyle\"]"
   ]
  },
  {
   "cell_type": "code",
   "execution_count": 123,
   "id": "30502a66",
   "metadata": {},
   "outputs": [],
   "source": [
    "birlesmisIndeks = list(zip(ilkIndeksler,icIndeksler))"
   ]
  },
  {
   "cell_type": "code",
   "execution_count": 124,
   "id": "b5a0a338",
   "metadata": {},
   "outputs": [
    {
     "data": {
      "text/plain": [
       "[('Simpson', 'Homer'),\n",
       " ('Simpson', 'Bart'),\n",
       " ('Simpson', 'Marge'),\n",
       " ('South Park', 'Cartman'),\n",
       " ('South Park', 'Kenny'),\n",
       " ('South Park', 'Kyle')]"
      ]
     },
     "execution_count": 124,
     "metadata": {},
     "output_type": "execute_result"
    }
   ],
   "source": [
    "birlesmisIndeks"
   ]
  },
  {
   "cell_type": "code",
   "execution_count": 125,
   "id": "e50e95cb",
   "metadata": {},
   "outputs": [],
   "source": [
    "birlesmisIndeks = pd.MultiIndex.from_tuples(birlesmisIndeks) # birlestirme islemi"
   ]
  },
  {
   "cell_type": "code",
   "execution_count": 126,
   "id": "39fd27df",
   "metadata": {},
   "outputs": [
    {
     "data": {
      "text/plain": [
       "MultiIndex([(   'Simpson',   'Homer'),\n",
       "            (   'Simpson',    'Bart'),\n",
       "            (   'Simpson',   'Marge'),\n",
       "            ('South Park', 'Cartman'),\n",
       "            ('South Park',   'Kenny'),\n",
       "            ('South Park',    'Kyle')],\n",
       "           )"
      ]
     },
     "execution_count": 126,
     "metadata": {},
     "output_type": "execute_result"
    }
   ],
   "source": [
    "birlesmisIndeks"
   ]
  },
  {
   "cell_type": "code",
   "execution_count": 127,
   "id": "3de746ca",
   "metadata": {},
   "outputs": [],
   "source": [
    "benimCizgiFilmListem = [[40,\"A\"],[10,\"B\"],[30,\"C\"],[9,\"D\"],[10,\"E\"],[11,\"F\"]]"
   ]
  },
  {
   "cell_type": "code",
   "execution_count": 128,
   "id": "a02e28e7",
   "metadata": {},
   "outputs": [],
   "source": [
    "cizgiFilmNumpyDizisi = np.array(benimCizgiFilmListem)"
   ]
  },
  {
   "cell_type": "code",
   "execution_count": 130,
   "id": "2598444d",
   "metadata": {},
   "outputs": [],
   "source": [
    "cizgiFilmDataFrame = pd.DataFrame(cizgiFilmNumpyDizisi, index = birlesmisIndeks, columns = [\"Yas\",\"Meslek\"])"
   ]
  },
  {
   "cell_type": "code",
   "execution_count": 131,
   "id": "6dbaba55",
   "metadata": {},
   "outputs": [
    {
     "data": {
      "text/html": [
       "<div>\n",
       "<style scoped>\n",
       "    .dataframe tbody tr th:only-of-type {\n",
       "        vertical-align: middle;\n",
       "    }\n",
       "\n",
       "    .dataframe tbody tr th {\n",
       "        vertical-align: top;\n",
       "    }\n",
       "\n",
       "    .dataframe thead th {\n",
       "        text-align: right;\n",
       "    }\n",
       "</style>\n",
       "<table border=\"1\" class=\"dataframe\">\n",
       "  <thead>\n",
       "    <tr style=\"text-align: right;\">\n",
       "      <th></th>\n",
       "      <th></th>\n",
       "      <th>Yas</th>\n",
       "      <th>Meslek</th>\n",
       "    </tr>\n",
       "  </thead>\n",
       "  <tbody>\n",
       "    <tr>\n",
       "      <th rowspan=\"3\" valign=\"top\">Simpson</th>\n",
       "      <th>Homer</th>\n",
       "      <td>40</td>\n",
       "      <td>A</td>\n",
       "    </tr>\n",
       "    <tr>\n",
       "      <th>Bart</th>\n",
       "      <td>10</td>\n",
       "      <td>B</td>\n",
       "    </tr>\n",
       "    <tr>\n",
       "      <th>Marge</th>\n",
       "      <td>30</td>\n",
       "      <td>C</td>\n",
       "    </tr>\n",
       "    <tr>\n",
       "      <th rowspan=\"3\" valign=\"top\">South Park</th>\n",
       "      <th>Cartman</th>\n",
       "      <td>9</td>\n",
       "      <td>D</td>\n",
       "    </tr>\n",
       "    <tr>\n",
       "      <th>Kenny</th>\n",
       "      <td>10</td>\n",
       "      <td>E</td>\n",
       "    </tr>\n",
       "    <tr>\n",
       "      <th>Kyle</th>\n",
       "      <td>11</td>\n",
       "      <td>F</td>\n",
       "    </tr>\n",
       "  </tbody>\n",
       "</table>\n",
       "</div>"
      ],
      "text/plain": [
       "                   Yas Meslek\n",
       "Simpson    Homer    40      A\n",
       "           Bart     10      B\n",
       "           Marge    30      C\n",
       "South Park Cartman   9      D\n",
       "           Kenny    10      E\n",
       "           Kyle     11      F"
      ]
     },
     "execution_count": 131,
     "metadata": {},
     "output_type": "execute_result"
    }
   ],
   "source": [
    "cizgiFilmDataFrame"
   ]
  },
  {
   "cell_type": "code",
   "execution_count": 132,
   "id": "8c5fcdd9",
   "metadata": {},
   "outputs": [
    {
     "data": {
      "text/html": [
       "<div>\n",
       "<style scoped>\n",
       "    .dataframe tbody tr th:only-of-type {\n",
       "        vertical-align: middle;\n",
       "    }\n",
       "\n",
       "    .dataframe tbody tr th {\n",
       "        vertical-align: top;\n",
       "    }\n",
       "\n",
       "    .dataframe thead th {\n",
       "        text-align: right;\n",
       "    }\n",
       "</style>\n",
       "<table border=\"1\" class=\"dataframe\">\n",
       "  <thead>\n",
       "    <tr style=\"text-align: right;\">\n",
       "      <th></th>\n",
       "      <th>Yas</th>\n",
       "      <th>Meslek</th>\n",
       "    </tr>\n",
       "  </thead>\n",
       "  <tbody>\n",
       "    <tr>\n",
       "      <th>Homer</th>\n",
       "      <td>40</td>\n",
       "      <td>A</td>\n",
       "    </tr>\n",
       "    <tr>\n",
       "      <th>Bart</th>\n",
       "      <td>10</td>\n",
       "      <td>B</td>\n",
       "    </tr>\n",
       "    <tr>\n",
       "      <th>Marge</th>\n",
       "      <td>30</td>\n",
       "      <td>C</td>\n",
       "    </tr>\n",
       "  </tbody>\n",
       "</table>\n",
       "</div>"
      ],
      "text/plain": [
       "      Yas Meslek\n",
       "Homer  40      A\n",
       "Bart   10      B\n",
       "Marge  30      C"
      ]
     },
     "execution_count": 132,
     "metadata": {},
     "output_type": "execute_result"
    }
   ],
   "source": [
    "cizgiFilmDataFrame.loc[\"Simpson\"]"
   ]
  },
  {
   "cell_type": "code",
   "execution_count": 133,
   "id": "55d9518e",
   "metadata": {},
   "outputs": [
    {
     "data": {
      "text/html": [
       "<div>\n",
       "<style scoped>\n",
       "    .dataframe tbody tr th:only-of-type {\n",
       "        vertical-align: middle;\n",
       "    }\n",
       "\n",
       "    .dataframe tbody tr th {\n",
       "        vertical-align: top;\n",
       "    }\n",
       "\n",
       "    .dataframe thead th {\n",
       "        text-align: right;\n",
       "    }\n",
       "</style>\n",
       "<table border=\"1\" class=\"dataframe\">\n",
       "  <thead>\n",
       "    <tr style=\"text-align: right;\">\n",
       "      <th></th>\n",
       "      <th>Yas</th>\n",
       "      <th>Meslek</th>\n",
       "    </tr>\n",
       "  </thead>\n",
       "  <tbody>\n",
       "    <tr>\n",
       "      <th>Cartman</th>\n",
       "      <td>9</td>\n",
       "      <td>D</td>\n",
       "    </tr>\n",
       "    <tr>\n",
       "      <th>Kenny</th>\n",
       "      <td>10</td>\n",
       "      <td>E</td>\n",
       "    </tr>\n",
       "    <tr>\n",
       "      <th>Kyle</th>\n",
       "      <td>11</td>\n",
       "      <td>F</td>\n",
       "    </tr>\n",
       "  </tbody>\n",
       "</table>\n",
       "</div>"
      ],
      "text/plain": [
       "        Yas Meslek\n",
       "Cartman   9      D\n",
       "Kenny    10      E\n",
       "Kyle     11      F"
      ]
     },
     "execution_count": 133,
     "metadata": {},
     "output_type": "execute_result"
    }
   ],
   "source": [
    "cizgiFilmDataFrame.loc[\"South Park\"]"
   ]
  },
  {
   "cell_type": "code",
   "execution_count": 134,
   "id": "b702779b",
   "metadata": {},
   "outputs": [
    {
     "data": {
      "text/plain": [
       "Yas       10\n",
       "Meslek     E\n",
       "Name: Kenny, dtype: object"
      ]
     },
     "execution_count": 134,
     "metadata": {},
     "output_type": "execute_result"
    }
   ],
   "source": [
    "cizgiFilmDataFrame.loc[\"South Park\"].loc[\"Kenny\"]"
   ]
  },
  {
   "cell_type": "code",
   "execution_count": 135,
   "id": "393c76d2",
   "metadata": {},
   "outputs": [
    {
     "data": {
      "text/html": [
       "<div>\n",
       "<style scoped>\n",
       "    .dataframe tbody tr th:only-of-type {\n",
       "        vertical-align: middle;\n",
       "    }\n",
       "\n",
       "    .dataframe tbody tr th {\n",
       "        vertical-align: top;\n",
       "    }\n",
       "\n",
       "    .dataframe thead th {\n",
       "        text-align: right;\n",
       "    }\n",
       "</style>\n",
       "<table border=\"1\" class=\"dataframe\">\n",
       "  <thead>\n",
       "    <tr style=\"text-align: right;\">\n",
       "      <th></th>\n",
       "      <th></th>\n",
       "      <th>Yas</th>\n",
       "      <th>Meslek</th>\n",
       "    </tr>\n",
       "  </thead>\n",
       "  <tbody>\n",
       "    <tr>\n",
       "      <th rowspan=\"3\" valign=\"top\">Simpson</th>\n",
       "      <th>Homer</th>\n",
       "      <td>40</td>\n",
       "      <td>A</td>\n",
       "    </tr>\n",
       "    <tr>\n",
       "      <th>Bart</th>\n",
       "      <td>10</td>\n",
       "      <td>B</td>\n",
       "    </tr>\n",
       "    <tr>\n",
       "      <th>Marge</th>\n",
       "      <td>30</td>\n",
       "      <td>C</td>\n",
       "    </tr>\n",
       "    <tr>\n",
       "      <th rowspan=\"3\" valign=\"top\">South Park</th>\n",
       "      <th>Cartman</th>\n",
       "      <td>9</td>\n",
       "      <td>D</td>\n",
       "    </tr>\n",
       "    <tr>\n",
       "      <th>Kenny</th>\n",
       "      <td>10</td>\n",
       "      <td>E</td>\n",
       "    </tr>\n",
       "    <tr>\n",
       "      <th>Kyle</th>\n",
       "      <td>11</td>\n",
       "      <td>F</td>\n",
       "    </tr>\n",
       "  </tbody>\n",
       "</table>\n",
       "</div>"
      ],
      "text/plain": [
       "                   Yas Meslek\n",
       "Simpson    Homer    40      A\n",
       "           Bart     10      B\n",
       "           Marge    30      C\n",
       "South Park Cartman   9      D\n",
       "           Kenny    10      E\n",
       "           Kyle     11      F"
      ]
     },
     "execution_count": 135,
     "metadata": {},
     "output_type": "execute_result"
    }
   ],
   "source": [
    "cizgiFilmDataFrame"
   ]
  },
  {
   "cell_type": "code",
   "execution_count": 138,
   "id": "226d362f",
   "metadata": {},
   "outputs": [],
   "source": [
    "cizgiFilmDataFrame.index.names = [\"Film Adı\",\"İsim\"] # isim verdik"
   ]
  },
  {
   "cell_type": "code",
   "execution_count": 139,
   "id": "e305d335",
   "metadata": {},
   "outputs": [
    {
     "data": {
      "text/html": [
       "<div>\n",
       "<style scoped>\n",
       "    .dataframe tbody tr th:only-of-type {\n",
       "        vertical-align: middle;\n",
       "    }\n",
       "\n",
       "    .dataframe tbody tr th {\n",
       "        vertical-align: top;\n",
       "    }\n",
       "\n",
       "    .dataframe thead th {\n",
       "        text-align: right;\n",
       "    }\n",
       "</style>\n",
       "<table border=\"1\" class=\"dataframe\">\n",
       "  <thead>\n",
       "    <tr style=\"text-align: right;\">\n",
       "      <th></th>\n",
       "      <th></th>\n",
       "      <th>Yas</th>\n",
       "      <th>Meslek</th>\n",
       "    </tr>\n",
       "    <tr>\n",
       "      <th>Film Adı</th>\n",
       "      <th>İsim</th>\n",
       "      <th></th>\n",
       "      <th></th>\n",
       "    </tr>\n",
       "  </thead>\n",
       "  <tbody>\n",
       "    <tr>\n",
       "      <th rowspan=\"3\" valign=\"top\">Simpson</th>\n",
       "      <th>Homer</th>\n",
       "      <td>40</td>\n",
       "      <td>A</td>\n",
       "    </tr>\n",
       "    <tr>\n",
       "      <th>Bart</th>\n",
       "      <td>10</td>\n",
       "      <td>B</td>\n",
       "    </tr>\n",
       "    <tr>\n",
       "      <th>Marge</th>\n",
       "      <td>30</td>\n",
       "      <td>C</td>\n",
       "    </tr>\n",
       "    <tr>\n",
       "      <th rowspan=\"3\" valign=\"top\">South Park</th>\n",
       "      <th>Cartman</th>\n",
       "      <td>9</td>\n",
       "      <td>D</td>\n",
       "    </tr>\n",
       "    <tr>\n",
       "      <th>Kenny</th>\n",
       "      <td>10</td>\n",
       "      <td>E</td>\n",
       "    </tr>\n",
       "    <tr>\n",
       "      <th>Kyle</th>\n",
       "      <td>11</td>\n",
       "      <td>F</td>\n",
       "    </tr>\n",
       "  </tbody>\n",
       "</table>\n",
       "</div>"
      ],
      "text/plain": [
       "                   Yas Meslek\n",
       "Film Adı   İsim              \n",
       "Simpson    Homer    40      A\n",
       "           Bart     10      B\n",
       "           Marge    30      C\n",
       "South Park Cartman   9      D\n",
       "           Kenny    10      E\n",
       "           Kyle     11      F"
      ]
     },
     "execution_count": 139,
     "metadata": {},
     "output_type": "execute_result"
    }
   ],
   "source": [
    "cizgiFilmDataFrame"
   ]
  },
  {
   "cell_type": "code",
   "execution_count": null,
   "id": "cc4cbed3",
   "metadata": {},
   "outputs": [],
   "source": []
  }
 ],
 "metadata": {
  "kernelspec": {
   "display_name": "Python 3 (ipykernel)",
   "language": "python",
   "name": "python3"
  },
  "language_info": {
   "codemirror_mode": {
    "name": "ipython",
    "version": 3
   },
   "file_extension": ".py",
   "mimetype": "text/x-python",
   "name": "python",
   "nbconvert_exporter": "python",
   "pygments_lexer": "ipython3",
   "version": "3.9.7"
  }
 },
 "nbformat": 4,
 "nbformat_minor": 5
}
