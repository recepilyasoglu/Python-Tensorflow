{
 "cells": [
  {
   "cell_type": "code",
   "execution_count": 2,
   "id": "dfa69cba",
   "metadata": {},
   "outputs": [],
   "source": [
    "import numpy as np\n",
    "import pandas as pd"
   ]
  },
  {
   "cell_type": "markdown",
   "id": "a91702cd",
   "metadata": {},
   "source": [
    "## series / seriler"
   ]
  },
  {
   "cell_type": "code",
   "execution_count": 3,
   "id": "5a7fb361",
   "metadata": {},
   "outputs": [],
   "source": [
    "benimSozlugum = {\"Recep\" : 24, \"Zeynep\" : 23, \"Mehmet\" : 30}"
   ]
  },
  {
   "cell_type": "code",
   "execution_count": 6,
   "id": "ebdd8388",
   "metadata": {},
   "outputs": [
    {
     "data": {
      "text/plain": [
       "Recep     24\n",
       "Zeynep    24\n",
       "Mehmet    30\n",
       "dtype: int64"
      ]
     },
     "execution_count": 6,
     "metadata": {},
     "output_type": "execute_result"
    }
   ],
   "source": [
    "pd.Series(benimSozlugum)"
   ]
  },
  {
   "cell_type": "code",
   "execution_count": 10,
   "id": "75647e3f",
   "metadata": {},
   "outputs": [],
   "source": [
    "benimYaslarim = [24,23,30]\n",
    "benimIsimlerim = [\"Recep\",\"Zeynep\",\"Mehmet\"]"
   ]
  },
  {
   "cell_type": "code",
   "execution_count": 11,
   "id": "40e554fb",
   "metadata": {},
   "outputs": [
    {
     "data": {
      "text/plain": [
       "0    24\n",
       "1    23\n",
       "2    30\n",
       "dtype: int64"
      ]
     },
     "execution_count": 11,
     "metadata": {},
     "output_type": "execute_result"
    }
   ],
   "source": [
    "pd.Series(benimYaslarim)"
   ]
  },
  {
   "cell_type": "code",
   "execution_count": 13,
   "id": "5e5de7bf",
   "metadata": {},
   "outputs": [
    {
     "data": {
      "text/plain": [
       "Recep     24\n",
       "Zeynep    23\n",
       "Mehmet    30\n",
       "dtype: int64"
      ]
     },
     "execution_count": 13,
     "metadata": {},
     "output_type": "execute_result"
    }
   ],
   "source": [
    "pd.Series(benimYaslarim,benimIsimlerim)"
   ]
  },
  {
   "cell_type": "code",
   "execution_count": 14,
   "id": "eb1ede79",
   "metadata": {},
   "outputs": [
    {
     "data": {
      "text/plain": [
       "Recep     24\n",
       "Zeynep    23\n",
       "Mehmet    30\n",
       "dtype: int64"
      ]
     },
     "execution_count": 14,
     "metadata": {},
     "output_type": "execute_result"
    }
   ],
   "source": [
    "pd.Series(data = benimYaslarim, index = benimIsimlerim) #bu tarzda da yapılabilir"
   ]
  },
  {
   "cell_type": "code",
   "execution_count": 15,
   "id": "d3272a42",
   "metadata": {},
   "outputs": [],
   "source": [
    "numpyDizisi = np.array([24,23,30])"
   ]
  },
  {
   "cell_type": "code",
   "execution_count": 16,
   "id": "dd85fed3",
   "metadata": {},
   "outputs": [
    {
     "data": {
      "text/plain": [
       "array([24, 23, 30])"
      ]
     },
     "execution_count": 16,
     "metadata": {},
     "output_type": "execute_result"
    }
   ],
   "source": [
    "numpyDizisi"
   ]
  },
  {
   "cell_type": "code",
   "execution_count": 17,
   "id": "54621dfe",
   "metadata": {},
   "outputs": [
    {
     "data": {
      "text/plain": [
       "0    24\n",
       "1    23\n",
       "2    30\n",
       "dtype: int32"
      ]
     },
     "execution_count": 17,
     "metadata": {},
     "output_type": "execute_result"
    }
   ],
   "source": [
    "pd.Series(numpyDizisi)"
   ]
  },
  {
   "cell_type": "code",
   "execution_count": 18,
   "id": "70a95b26",
   "metadata": {},
   "outputs": [
    {
     "data": {
      "text/plain": [
       "Recep     24\n",
       "Zeynep    23\n",
       "Mehmet    30\n",
       "dtype: int32"
      ]
     },
     "execution_count": 18,
     "metadata": {},
     "output_type": "execute_result"
    }
   ],
   "source": [
    "pd.Series(data = numpyDizisi, index = benimIsimlerim)"
   ]
  },
  {
   "cell_type": "code",
   "execution_count": 20,
   "id": "9ab17fcc",
   "metadata": {},
   "outputs": [
    {
     "data": {
      "text/plain": [
       "1    Recep\n",
       "2    Atlas\n",
       "3    Osman\n",
       "dtype: object"
      ]
     },
     "execution_count": 20,
     "metadata": {},
     "output_type": "execute_result"
    }
   ],
   "source": [
    "pd.Series([\"Recep\",\"Atlas\",\"Osman\"],[1,2,3]) # burda index'leinin kendimiz belirledik"
   ]
  },
  {
   "cell_type": "code",
   "execution_count": 21,
   "id": "1bce3bb4",
   "metadata": {},
   "outputs": [],
   "source": [
    "yarismaSonucu1 = pd.Series([10,5,1],[\"Recep\",\"Atlas\",\"Osman\"])"
   ]
  },
  {
   "cell_type": "code",
   "execution_count": 22,
   "id": "3825ca82",
   "metadata": {},
   "outputs": [
    {
     "data": {
      "text/plain": [
       "Recep    10\n",
       "Atlas     5\n",
       "Osman     1\n",
       "dtype: int64"
      ]
     },
     "execution_count": 22,
     "metadata": {},
     "output_type": "execute_result"
    }
   ],
   "source": [
    "yarismaSonucu1"
   ]
  },
  {
   "cell_type": "code",
   "execution_count": 23,
   "id": "1863da52",
   "metadata": {},
   "outputs": [],
   "source": [
    "yarismaSonucu2 = pd.Series([20,10,8],[\"Recep\",\"Atlas\",\"Osman\"])"
   ]
  },
  {
   "cell_type": "code",
   "execution_count": 24,
   "id": "143fb8f4",
   "metadata": {},
   "outputs": [
    {
     "data": {
      "text/plain": [
       "Recep    20\n",
       "Atlas    10\n",
       "Osman     8\n",
       "dtype: int64"
      ]
     },
     "execution_count": 24,
     "metadata": {},
     "output_type": "execute_result"
    }
   ],
   "source": [
    "yarismaSonucu2"
   ]
  },
  {
   "cell_type": "code",
   "execution_count": 25,
   "id": "f6069415",
   "metadata": {},
   "outputs": [
    {
     "data": {
      "text/plain": [
       "10"
      ]
     },
     "execution_count": 25,
     "metadata": {},
     "output_type": "execute_result"
    }
   ],
   "source": [
    "yarismaSonucu2[\"Atlas\"]"
   ]
  },
  {
   "cell_type": "code",
   "execution_count": 26,
   "id": "de0c0c33",
   "metadata": {},
   "outputs": [],
   "source": [
    "sonSonuc = yarismaSonucu1 + yarismaSonucu2"
   ]
  },
  {
   "cell_type": "code",
   "execution_count": 28,
   "id": "3f1e8311",
   "metadata": {},
   "outputs": [
    {
     "data": {
      "text/plain": [
       "Recep    30\n",
       "Atlas    15\n",
       "Osman     9\n",
       "dtype: int64"
      ]
     },
     "execution_count": 28,
     "metadata": {},
     "output_type": "execute_result"
    }
   ],
   "source": [
    "sonSonuc # elma'larla elma'lar, armut'larla armut'lar"
   ]
  },
  {
   "cell_type": "code",
   "execution_count": 32,
   "id": "22cb493a",
   "metadata": {},
   "outputs": [],
   "source": [
    "farkliSeries = pd.Series([20,30,40,50],[\"a\",\"b\",\"c\",\"d\"])"
   ]
  },
  {
   "cell_type": "code",
   "execution_count": 33,
   "id": "79744298",
   "metadata": {},
   "outputs": [],
   "source": [
    "farkliSeries2 = pd.Series([10,5,3,1],[\"a\",\"c\",\"f\",\"g\"])"
   ]
  },
  {
   "cell_type": "code",
   "execution_count": 34,
   "id": "021e047b",
   "metadata": {},
   "outputs": [
    {
     "data": {
      "text/plain": [
       "a    20\n",
       "b    30\n",
       "c    40\n",
       "d    50\n",
       "dtype: int64"
      ]
     },
     "execution_count": 34,
     "metadata": {},
     "output_type": "execute_result"
    }
   ],
   "source": [
    "farkliSeries"
   ]
  },
  {
   "cell_type": "code",
   "execution_count": 35,
   "id": "513498f6",
   "metadata": {},
   "outputs": [
    {
     "data": {
      "text/plain": [
       "a    10\n",
       "c     5\n",
       "f     3\n",
       "g     1\n",
       "dtype: int64"
      ]
     },
     "execution_count": 35,
     "metadata": {},
     "output_type": "execute_result"
    }
   ],
   "source": [
    "farkliSeries2"
   ]
  },
  {
   "cell_type": "code",
   "execution_count": 38,
   "id": "fba72a00",
   "metadata": {},
   "outputs": [
    {
     "data": {
      "text/plain": [
       "a    30.0\n",
       "b     NaN\n",
       "c    45.0\n",
       "d     NaN\n",
       "f     NaN\n",
       "g     NaN\n",
       "dtype: float64"
      ]
     },
     "execution_count": 38,
     "metadata": {},
     "output_type": "execute_result"
    }
   ],
   "source": [
    "farkliSeries + farkliSeries2 # birbiriyle alakası olmayanlar için \"NaN\" yazdı"
   ]
  },
  {
   "cell_type": "code",
   "execution_count": null,
   "id": "96bf15b4",
   "metadata": {},
   "outputs": [],
   "source": []
  }
 ],
 "metadata": {
  "kernelspec": {
   "display_name": "Python 3 (ipykernel)",
   "language": "python",
   "name": "python3"
  },
  "language_info": {
   "codemirror_mode": {
    "name": "ipython",
    "version": 3
   },
   "file_extension": ".py",
   "mimetype": "text/x-python",
   "name": "python",
   "nbconvert_exporter": "python",
   "pygments_lexer": "ipython3",
   "version": "3.9.7"
  }
 },
 "nbformat": 4,
 "nbformat_minor": 5
}
