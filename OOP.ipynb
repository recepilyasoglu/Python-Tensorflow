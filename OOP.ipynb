{
 "cells": [
  {
   "cell_type": "markdown",
   "id": "7832def4",
   "metadata": {},
   "source": [
    "## instance & attribute"
   ]
  },
  {
   "cell_type": "code",
   "execution_count": 87,
   "id": "7d500fb0",
   "metadata": {},
   "outputs": [],
   "source": [
    "class SuperKahraman():\n",
    "    def __init__(self,isim,yas,meslek): # kendisine referans sağlıyor\n",
    "        self.isim = isim\n",
    "        self.yas = yas\n",
    "        self.meslek = meslek\n",
    "        \n",
    "    def ornekMethod(self):\n",
    "        print(f\"Ben Süper Kahramanım ve Mesleğim : {self.meslek}\") ## meslegi cagirdik"
   ]
  },
  {
   "cell_type": "code",
   "execution_count": 100,
   "id": "1583bf75",
   "metadata": {},
   "outputs": [],
   "source": [
    "# nesne olusturduk\n",
    "superman = SuperKahraman(\"Superman\",30,\"Gazeteci\")"
   ]
  },
  {
   "cell_type": "code",
   "execution_count": 101,
   "id": "adc25cb6",
   "metadata": {},
   "outputs": [
    {
     "data": {
      "text/plain": [
       "'Superman'"
      ]
     },
     "execution_count": 101,
     "metadata": {},
     "output_type": "execute_result"
    }
   ],
   "source": [
    "superman.isim"
   ]
  },
  {
   "cell_type": "code",
   "execution_count": 102,
   "id": "e8a6febc",
   "metadata": {},
   "outputs": [],
   "source": [
    "superman.isim = \"Clark Kent\""
   ]
  },
  {
   "cell_type": "code",
   "execution_count": 103,
   "id": "fb7fce31",
   "metadata": {},
   "outputs": [
    {
     "data": {
      "text/plain": [
       "'Clark Kent'"
      ]
     },
     "execution_count": 103,
     "metadata": {},
     "output_type": "execute_result"
    }
   ],
   "source": [
    "superman.isim"
   ]
  },
  {
   "cell_type": "code",
   "execution_count": 104,
   "id": "ffbc5135",
   "metadata": {},
   "outputs": [
    {
     "data": {
      "text/plain": [
       "30"
      ]
     },
     "execution_count": 104,
     "metadata": {},
     "output_type": "execute_result"
    }
   ],
   "source": [
    "superman.yas"
   ]
  },
  {
   "cell_type": "code",
   "execution_count": 105,
   "id": "b5d8d08d",
   "metadata": {},
   "outputs": [
    {
     "data": {
      "text/plain": [
       "'Gazeteci'"
      ]
     },
     "execution_count": 105,
     "metadata": {},
     "output_type": "execute_result"
    }
   ],
   "source": [
    "superman.meslek"
   ]
  },
  {
   "cell_type": "code",
   "execution_count": 106,
   "id": "e547bfe7",
   "metadata": {},
   "outputs": [
    {
     "name": "stdout",
     "output_type": "stream",
     "text": [
      "Ben Süper Kahramanım ve Mesleğim : Gazeteci\n"
     ]
    }
   ],
   "source": [
    "superman.ornekMethod()"
   ]
  },
  {
   "cell_type": "code",
   "execution_count": 202,
   "id": "70f96c79",
   "metadata": {},
   "outputs": [],
   "source": [
    "#insan yasini kopege gore hesaplama (insan yasi kopek yaisinin 7 katıdır)\n",
    "class Kopek():\n",
    "        \n",
    "    yilCarpani = 7\n",
    "    \n",
    "    def __init__(self,yas=5): # default olarak yasa 5 degerini verdik, herhangi bir deger vermezsek 5 calisiyor\n",
    "        self.yas = yas\n",
    "    \n",
    "    def iYasHesapla(self):\n",
    "        return (print(\"İnsanımızın Yasi..: \", self.yas * self.yilCarpani))"
   ]
  },
  {
   "cell_type": "code",
   "execution_count": 203,
   "id": "7df317c4",
   "metadata": {},
   "outputs": [],
   "source": [
    "benimKopek = Kopek()"
   ]
  },
  {
   "cell_type": "code",
   "execution_count": 204,
   "id": "fa6d1c67",
   "metadata": {},
   "outputs": [
    {
     "data": {
      "text/plain": [
       "5"
      ]
     },
     "execution_count": 204,
     "metadata": {},
     "output_type": "execute_result"
    }
   ],
   "source": [
    "benimKopek.yas "
   ]
  },
  {
   "cell_type": "code",
   "execution_count": 205,
   "id": "6b65f3f5",
   "metadata": {},
   "outputs": [],
   "source": [
    "benimKopek = Kopek()"
   ]
  },
  {
   "cell_type": "code",
   "execution_count": 206,
   "id": "7220560e",
   "metadata": {},
   "outputs": [
    {
     "name": "stdout",
     "output_type": "stream",
     "text": [
      "İnsanımızın Yasi..:  35\n"
     ]
    }
   ],
   "source": [
    "benimKopek.iYasHesapla()"
   ]
  },
  {
   "cell_type": "markdown",
   "id": "a2957fd9",
   "metadata": {},
   "source": [
    "## inheritance (kalıtım)"
   ]
  },
  {
   "cell_type": "code",
   "execution_count": 213,
   "id": "b19de8b5",
   "metadata": {},
   "outputs": [],
   "source": [
    "class Hayvan():\n",
    "    def __init__(self):\n",
    "        print(\"hayvan sınıfı init çağrıldı\")\n",
    "        \n",
    "    def method1(self):\n",
    "        print(\"hayvan sınıfı method1 çağrıldı\")\n",
    "    \n",
    "    def method2(self):\n",
    "        print(\"hayvan sınıfı method2 çağrıldı\")"
   ]
  },
  {
   "cell_type": "code",
   "execution_count": 214,
   "id": "5b672303",
   "metadata": {},
   "outputs": [
    {
     "name": "stdout",
     "output_type": "stream",
     "text": [
      "hayvan sınıfı init çağrıldı\n"
     ]
    }
   ],
   "source": [
    "benimHayvanim = Hayvan()"
   ]
  },
  {
   "cell_type": "code",
   "execution_count": 215,
   "id": "491bb09b",
   "metadata": {},
   "outputs": [
    {
     "name": "stdout",
     "output_type": "stream",
     "text": [
      "hayvan sınıfı method1 çağrıldı\n"
     ]
    }
   ],
   "source": [
    "benimHayvanim.method1()"
   ]
  },
  {
   "cell_type": "code",
   "execution_count": 216,
   "id": "10a17e91",
   "metadata": {},
   "outputs": [
    {
     "name": "stdout",
     "output_type": "stream",
     "text": [
      "hayvan sınıfı method2 çağrıldı\n"
     ]
    }
   ],
   "source": [
    "benimHayvanim.method2()"
   ]
  },
  {
   "cell_type": "code",
   "execution_count": 234,
   "id": "c7758e6d",
   "metadata": {},
   "outputs": [],
   "source": [
    "class Kedi(Hayvan):\n",
    "    def __init__(self):\n",
    "        Hayvan.__init__(self)\n",
    "        print(\"Kedi sınıfı init çağrıldı\")\n",
    "    \n",
    "    def miyavla(self):\n",
    "        print(\"miyavv\")\n",
    "    \n",
    "    #override(üzerine yazma)\n",
    "    def method1(self):\n",
    "        print(\"kedi sınıfındaki method1 çağrıldı\") # kedi sınıfındaki method1 çağrılır"
   ]
  },
  {
   "cell_type": "code",
   "execution_count": 235,
   "id": "0e977bd9",
   "metadata": {},
   "outputs": [
    {
     "name": "stdout",
     "output_type": "stream",
     "text": [
      "hayvan sınıfı init çağrıldı\n",
      "Kedi sınıfı init çağrıldı\n"
     ]
    }
   ],
   "source": [
    "benimKedi = Kedi()"
   ]
  },
  {
   "cell_type": "code",
   "execution_count": 236,
   "id": "4555f839",
   "metadata": {},
   "outputs": [
    {
     "name": "stdout",
     "output_type": "stream",
     "text": [
      "kedi sınıfındaki method1 çağrıldı\n"
     ]
    }
   ],
   "source": [
    "benimKedi.method1()"
   ]
  },
  {
   "cell_type": "code",
   "execution_count": 237,
   "id": "f6e098e4",
   "metadata": {},
   "outputs": [
    {
     "name": "stdout",
     "output_type": "stream",
     "text": [
      "miyavv\n"
     ]
    }
   ],
   "source": [
    "benimKedi.miyavla()"
   ]
  },
  {
   "cell_type": "code",
   "execution_count": 238,
   "id": "15781d79",
   "metadata": {},
   "outputs": [
    {
     "name": "stdout",
     "output_type": "stream",
     "text": [
      "hayvan sınıfı init çağrıldı\n"
     ]
    }
   ],
   "source": [
    "digerHayvan = Hayvan()"
   ]
  },
  {
   "cell_type": "code",
   "execution_count": 239,
   "id": "49540296",
   "metadata": {},
   "outputs": [
    {
     "name": "stdout",
     "output_type": "stream",
     "text": [
      "hayvan sınıfı method1 çağrıldı\n"
     ]
    }
   ],
   "source": [
    "digerHayvan.method1()"
   ]
  },
  {
   "cell_type": "code",
   "execution_count": 240,
   "id": "9c6e6a73",
   "metadata": {},
   "outputs": [
    {
     "name": "stdout",
     "output_type": "stream",
     "text": [
      "hayvan sınıfı init çağrıldı\n",
      "Kedi sınıfı init çağrıldı\n"
     ]
    }
   ],
   "source": [
    "digerKedi = Kedi()"
   ]
  },
  {
   "cell_type": "code",
   "execution_count": 241,
   "id": "9e8a0465",
   "metadata": {},
   "outputs": [
    {
     "name": "stdout",
     "output_type": "stream",
     "text": [
      "kedi sınıfındaki method1 çağrıldı\n"
     ]
    }
   ],
   "source": [
    "digerKedi.method1()"
   ]
  },
  {
   "cell_type": "markdown",
   "id": "c755e352",
   "metadata": {},
   "source": [
    "## Polymorphism"
   ]
  },
  {
   "cell_type": "code",
   "execution_count": 242,
   "id": "04f21b33",
   "metadata": {},
   "outputs": [],
   "source": [
    "class Elma():\n",
    "    def __init__(self,isim):\n",
    "        self.isim = isim\n",
    "    \n",
    "    def bilgiVer(self):\n",
    "        return self.isim + \" 100 kaloridir \""
   ]
  },
  {
   "cell_type": "code",
   "execution_count": 243,
   "id": "a1fef798",
   "metadata": {},
   "outputs": [],
   "source": [
    "class Muz():\n",
    "    def __init__(self,isim):\n",
    "        self.isim = isim\n",
    "    \n",
    "    def bilgiVer(self):\n",
    "        return self.isim + \" 150 kaloridir \""
   ]
  },
  {
   "cell_type": "code",
   "execution_count": 244,
   "id": "968c175e",
   "metadata": {},
   "outputs": [],
   "source": [
    "elmam = Elma(\"Elma\")"
   ]
  },
  {
   "cell_type": "code",
   "execution_count": 245,
   "id": "c42c0c58",
   "metadata": {},
   "outputs": [
    {
     "data": {
      "text/plain": [
       "'Elma 100 kaloridir '"
      ]
     },
     "execution_count": 245,
     "metadata": {},
     "output_type": "execute_result"
    }
   ],
   "source": [
    "elmam.bilgiVer()"
   ]
  },
  {
   "cell_type": "code",
   "execution_count": 246,
   "id": "0492bb34",
   "metadata": {},
   "outputs": [],
   "source": [
    "muzum = Muz(\"Muz\")"
   ]
  },
  {
   "cell_type": "code",
   "execution_count": 247,
   "id": "416a690f",
   "metadata": {},
   "outputs": [
    {
     "data": {
      "text/plain": [
       "'Muz 150 kaloridir '"
      ]
     },
     "execution_count": 247,
     "metadata": {},
     "output_type": "execute_result"
    }
   ],
   "source": [
    "muzum.bilgiVer()"
   ]
  },
  {
   "cell_type": "code",
   "execution_count": 249,
   "id": "93a99e74",
   "metadata": {},
   "outputs": [],
   "source": [
    "meyveListesi = [elmam,muzum]"
   ]
  },
  {
   "cell_type": "code",
   "execution_count": 251,
   "id": "7c064c3e",
   "metadata": {},
   "outputs": [
    {
     "name": "stdout",
     "output_type": "stream",
     "text": [
      "Elma 100 kaloridir \n",
      "Muz 150 kaloridir \n"
     ]
    }
   ],
   "source": [
    "## Polymorphism\n",
    "for meyve in meyveListesi:\n",
    "    print(meyve.bilgiVer())"
   ]
  },
  {
   "cell_type": "code",
   "execution_count": 252,
   "id": "a0a11644",
   "metadata": {},
   "outputs": [],
   "source": [
    "def bilgiAl(meyve):\n",
    "    print(meyve.bilgiVer())"
   ]
  },
  {
   "cell_type": "code",
   "execution_count": 255,
   "id": "04b5da3a",
   "metadata": {},
   "outputs": [
    {
     "name": "stdout",
     "output_type": "stream",
     "text": [
      "Muz 150 kaloridir \n"
     ]
    }
   ],
   "source": [
    "bilgiAl(muzum)"
   ]
  },
  {
   "cell_type": "code",
   "execution_count": 256,
   "id": "0ec75111",
   "metadata": {},
   "outputs": [
    {
     "name": "stdout",
     "output_type": "stream",
     "text": [
      "Elma 100 kaloridir \n"
     ]
    }
   ],
   "source": [
    "bilgiAl(elmam)"
   ]
  },
  {
   "cell_type": "code",
   "execution_count": null,
   "id": "ed7fcc05",
   "metadata": {},
   "outputs": [],
   "source": []
  }
 ],
 "metadata": {
  "kernelspec": {
   "display_name": "Python 3 (ipykernel)",
   "language": "python",
   "name": "python3"
  },
  "language_info": {
   "codemirror_mode": {
    "name": "ipython",
    "version": 3
   },
   "file_extension": ".py",
   "mimetype": "text/x-python",
   "name": "python",
   "nbconvert_exporter": "python",
   "pygments_lexer": "ipython3",
   "version": "3.9.7"
  }
 },
 "nbformat": 4,
 "nbformat_minor": 5
}
