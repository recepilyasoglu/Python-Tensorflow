{
 "cells": [
  {
   "cell_type": "code",
   "execution_count": 1,
   "id": "e2609450",
   "metadata": {},
   "outputs": [],
   "source": [
    "import pandas as pd\n",
    "import numpy as np"
   ]
  },
  {
   "cell_type": "code",
   "execution_count": 3,
   "id": "a74205d0",
   "metadata": {},
   "outputs": [],
   "source": [
    "dataFrame = pd.read_excel(\"maas.xlsx\")"
   ]
  },
  {
   "cell_type": "code",
   "execution_count": 4,
   "id": "edbedf63",
   "metadata": {},
   "outputs": [
    {
     "data": {
      "text/html": [
       "<div>\n",
       "<style scoped>\n",
       "    .dataframe tbody tr th:only-of-type {\n",
       "        vertical-align: middle;\n",
       "    }\n",
       "\n",
       "    .dataframe tbody tr th {\n",
       "        vertical-align: top;\n",
       "    }\n",
       "\n",
       "    .dataframe thead th {\n",
       "        text-align: right;\n",
       "    }\n",
       "</style>\n",
       "<table border=\"1\" class=\"dataframe\">\n",
       "  <thead>\n",
       "    <tr style=\"text-align: right;\">\n",
       "      <th></th>\n",
       "      <th>Unnamed: 0</th>\n",
       "      <th>Maas</th>\n",
       "      <th>Yas</th>\n",
       "      <th>Departman</th>\n",
       "    </tr>\n",
       "  </thead>\n",
       "  <tbody>\n",
       "    <tr>\n",
       "      <th>0</th>\n",
       "      <td>Recep</td>\n",
       "      <td>100</td>\n",
       "      <td>40.0</td>\n",
       "      <td>Yazılım</td>\n",
       "    </tr>\n",
       "    <tr>\n",
       "      <th>1</th>\n",
       "      <td>Zeynep</td>\n",
       "      <td>150</td>\n",
       "      <td>50.0</td>\n",
       "      <td>Satış</td>\n",
       "    </tr>\n",
       "    <tr>\n",
       "      <th>2</th>\n",
       "      <td>Mehmet</td>\n",
       "      <td>200</td>\n",
       "      <td>30.0</td>\n",
       "      <td>NaN</td>\n",
       "    </tr>\n",
       "    <tr>\n",
       "      <th>3</th>\n",
       "      <td>Ahmet</td>\n",
       "      <td>50</td>\n",
       "      <td>10.0</td>\n",
       "      <td>Pazarlama</td>\n",
       "    </tr>\n",
       "    <tr>\n",
       "      <th>4</th>\n",
       "      <td>Atlas</td>\n",
       "      <td>150</td>\n",
       "      <td>NaN</td>\n",
       "      <td>Finans</td>\n",
       "    </tr>\n",
       "    <tr>\n",
       "      <th>5</th>\n",
       "      <td>Fatma</td>\n",
       "      <td>200</td>\n",
       "      <td>25.0</td>\n",
       "      <td>Hukuk</td>\n",
       "    </tr>\n",
       "  </tbody>\n",
       "</table>\n",
       "</div>"
      ],
      "text/plain": [
       "  Unnamed: 0  Maas   Yas  Departman\n",
       "0      Recep   100  40.0    Yazılım\n",
       "1     Zeynep   150  50.0      Satış\n",
       "2     Mehmet   200  30.0        NaN\n",
       "3      Ahmet    50  10.0  Pazarlama\n",
       "4      Atlas   150   NaN     Finans\n",
       "5      Fatma   200  25.0      Hukuk"
      ]
     },
     "execution_count": 4,
     "metadata": {},
     "output_type": "execute_result"
    }
   ],
   "source": [
    "dataFrame"
   ]
  },
  {
   "cell_type": "code",
   "execution_count": 7,
   "id": "4021ba8d",
   "metadata": {},
   "outputs": [],
   "source": [
    "doluDegerlerDataFrame = dataFrame.dropna() # bos olanları attı"
   ]
  },
  {
   "cell_type": "code",
   "execution_count": 10,
   "id": "5bff4def",
   "metadata": {},
   "outputs": [
    {
     "data": {
      "text/html": [
       "<div>\n",
       "<style scoped>\n",
       "    .dataframe tbody tr th:only-of-type {\n",
       "        vertical-align: middle;\n",
       "    }\n",
       "\n",
       "    .dataframe tbody tr th {\n",
       "        vertical-align: top;\n",
       "    }\n",
       "\n",
       "    .dataframe thead th {\n",
       "        text-align: right;\n",
       "    }\n",
       "</style>\n",
       "<table border=\"1\" class=\"dataframe\">\n",
       "  <thead>\n",
       "    <tr style=\"text-align: right;\">\n",
       "      <th></th>\n",
       "      <th>Unnamed: 0</th>\n",
       "      <th>Maas</th>\n",
       "      <th>Yas</th>\n",
       "      <th>Departman</th>\n",
       "    </tr>\n",
       "  </thead>\n",
       "  <tbody>\n",
       "    <tr>\n",
       "      <th>0</th>\n",
       "      <td>Recep</td>\n",
       "      <td>100</td>\n",
       "      <td>40.0</td>\n",
       "      <td>Yazılım</td>\n",
       "    </tr>\n",
       "    <tr>\n",
       "      <th>1</th>\n",
       "      <td>Zeynep</td>\n",
       "      <td>150</td>\n",
       "      <td>50.0</td>\n",
       "      <td>Satış</td>\n",
       "    </tr>\n",
       "    <tr>\n",
       "      <th>3</th>\n",
       "      <td>Ahmet</td>\n",
       "      <td>50</td>\n",
       "      <td>10.0</td>\n",
       "      <td>Pazarlama</td>\n",
       "    </tr>\n",
       "    <tr>\n",
       "      <th>5</th>\n",
       "      <td>Fatma</td>\n",
       "      <td>200</td>\n",
       "      <td>25.0</td>\n",
       "      <td>Hukuk</td>\n",
       "    </tr>\n",
       "  </tbody>\n",
       "</table>\n",
       "</div>"
      ],
      "text/plain": [
       "  Unnamed: 0  Maas   Yas  Departman\n",
       "0      Recep   100  40.0    Yazılım\n",
       "1     Zeynep   150  50.0      Satış\n",
       "3      Ahmet    50  10.0  Pazarlama\n",
       "5      Fatma   200  25.0      Hukuk"
      ]
     },
     "execution_count": 10,
     "metadata": {},
     "output_type": "execute_result"
    }
   ],
   "source": [
    "doluDegerlerDataFrame"
   ]
  },
  {
   "cell_type": "code",
   "execution_count": 9,
   "id": "4a26e54c",
   "metadata": {},
   "outputs": [],
   "source": [
    "doluDegerlerDataFrame.to_excel(\"yenimaas.xlsx\") # excel'e yaz, yeni excel"
   ]
  },
  {
   "cell_type": "code",
   "execution_count": null,
   "id": "8b4cf989",
   "metadata": {},
   "outputs": [],
   "source": [
    "## csv'ler için\n",
    "## read_csv\n",
    "## to_csv"
   ]
  }
 ],
 "metadata": {
  "kernelspec": {
   "display_name": "Python 3 (ipykernel)",
   "language": "python",
   "name": "python3"
  },
  "language_info": {
   "codemirror_mode": {
    "name": "ipython",
    "version": 3
   },
   "file_extension": ".py",
   "mimetype": "text/x-python",
   "name": "python",
   "nbconvert_exporter": "python",
   "pygments_lexer": "ipython3",
   "version": "3.9.7"
  }
 },
 "nbformat": 4,
 "nbformat_minor": 5
}
